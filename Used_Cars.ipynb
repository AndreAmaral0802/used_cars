{
 "cells": [
  {
   "cell_type": "markdown",
   "id": "f06b1da2",
   "metadata": {},
   "source": [
    "# Used Cars in the US"
   ]
  },
  {
   "cell_type": "markdown",
   "id": "ff68c714",
   "metadata": {},
   "source": [
    "### Data cleaning and preparetaion "
   ]
  },
  {
   "cell_type": "code",
   "execution_count": 1,
   "id": "871b35ed",
   "metadata": {},
   "outputs": [
    {
     "data": {
      "text/html": [
       "<div>\n",
       "<style scoped>\n",
       "    .dataframe tbody tr th:only-of-type {\n",
       "        vertical-align: middle;\n",
       "    }\n",
       "\n",
       "    .dataframe tbody tr th {\n",
       "        vertical-align: top;\n",
       "    }\n",
       "\n",
       "    .dataframe thead th {\n",
       "        text-align: right;\n",
       "    }\n",
       "</style>\n",
       "<table border=\"1\" class=\"dataframe\">\n",
       "  <thead>\n",
       "    <tr style=\"text-align: right;\">\n",
       "      <th></th>\n",
       "      <th>Sales_ID</th>\n",
       "      <th>name</th>\n",
       "      <th>year</th>\n",
       "      <th>selling_price</th>\n",
       "      <th>km_driven</th>\n",
       "      <th>Region</th>\n",
       "      <th>State or Province</th>\n",
       "      <th>City</th>\n",
       "      <th>fuel</th>\n",
       "      <th>seller_type</th>\n",
       "      <th>transmission</th>\n",
       "      <th>owner</th>\n",
       "      <th>mileage</th>\n",
       "      <th>engine</th>\n",
       "      <th>max_power</th>\n",
       "      <th>torque</th>\n",
       "      <th>seats</th>\n",
       "      <th>sold</th>\n",
       "    </tr>\n",
       "  </thead>\n",
       "  <tbody>\n",
       "    <tr>\n",
       "      <th>0</th>\n",
       "      <td>1</td>\n",
       "      <td>Maruti</td>\n",
       "      <td>2014</td>\n",
       "      <td>450000</td>\n",
       "      <td>145500</td>\n",
       "      <td>East</td>\n",
       "      <td>District of Columbia</td>\n",
       "      <td>Washington</td>\n",
       "      <td>Diesel</td>\n",
       "      <td>Individual</td>\n",
       "      <td>Manual</td>\n",
       "      <td>First_Owner</td>\n",
       "      <td>23.40</td>\n",
       "      <td>1248</td>\n",
       "      <td>74.00</td>\n",
       "      <td>190Nm@ 2000rpm</td>\n",
       "      <td>5</td>\n",
       "      <td>Yes</td>\n",
       "    </tr>\n",
       "    <tr>\n",
       "      <th>1</th>\n",
       "      <td>2</td>\n",
       "      <td>Skoda</td>\n",
       "      <td>2014</td>\n",
       "      <td>370000</td>\n",
       "      <td>120000</td>\n",
       "      <td>East</td>\n",
       "      <td>New York</td>\n",
       "      <td>New York City</td>\n",
       "      <td>Diesel</td>\n",
       "      <td>Individual</td>\n",
       "      <td>Manual</td>\n",
       "      <td>Second_Owner</td>\n",
       "      <td>21.14</td>\n",
       "      <td>1498</td>\n",
       "      <td>103.52</td>\n",
       "      <td>250Nm@ 1500-2500rpm</td>\n",
       "      <td>5</td>\n",
       "      <td>Yes</td>\n",
       "    </tr>\n",
       "    <tr>\n",
       "      <th>2</th>\n",
       "      <td>3</td>\n",
       "      <td>Honda</td>\n",
       "      <td>2006</td>\n",
       "      <td>158000</td>\n",
       "      <td>140000</td>\n",
       "      <td>Central</td>\n",
       "      <td>Illinois</td>\n",
       "      <td>Chicago</td>\n",
       "      <td>Petrol</td>\n",
       "      <td>Individual</td>\n",
       "      <td>Manual</td>\n",
       "      <td>Third_Owner</td>\n",
       "      <td>17.70</td>\n",
       "      <td>1497</td>\n",
       "      <td>78.00</td>\n",
       "      <td>12.7@ 2,700(kgm@ rpm)</td>\n",
       "      <td>5</td>\n",
       "      <td>Yes</td>\n",
       "    </tr>\n",
       "    <tr>\n",
       "      <th>3</th>\n",
       "      <td>4</td>\n",
       "      <td>Hyundai</td>\n",
       "      <td>2010</td>\n",
       "      <td>225000</td>\n",
       "      <td>127000</td>\n",
       "      <td>Central</td>\n",
       "      <td>Illinois</td>\n",
       "      <td>Chicago</td>\n",
       "      <td>Diesel</td>\n",
       "      <td>Individual</td>\n",
       "      <td>Manual</td>\n",
       "      <td>First_Owner</td>\n",
       "      <td>23.00</td>\n",
       "      <td>1396</td>\n",
       "      <td>90.00</td>\n",
       "      <td>22.4 kgm at 1750-2750rpm</td>\n",
       "      <td>5</td>\n",
       "      <td>Yes</td>\n",
       "    </tr>\n",
       "    <tr>\n",
       "      <th>4</th>\n",
       "      <td>5</td>\n",
       "      <td>Maruti</td>\n",
       "      <td>2007</td>\n",
       "      <td>130000</td>\n",
       "      <td>120000</td>\n",
       "      <td>East</td>\n",
       "      <td>New York</td>\n",
       "      <td>New York City</td>\n",
       "      <td>Petrol</td>\n",
       "      <td>Individual</td>\n",
       "      <td>Manual</td>\n",
       "      <td>First_Owner</td>\n",
       "      <td>16.10</td>\n",
       "      <td>1298</td>\n",
       "      <td>88.20</td>\n",
       "      <td>11.5@ 4,500(kgm@ rpm)</td>\n",
       "      <td>5</td>\n",
       "      <td>Yes</td>\n",
       "    </tr>\n",
       "    <tr>\n",
       "      <th>...</th>\n",
       "      <td>...</td>\n",
       "      <td>...</td>\n",
       "      <td>...</td>\n",
       "      <td>...</td>\n",
       "      <td>...</td>\n",
       "      <td>...</td>\n",
       "      <td>...</td>\n",
       "      <td>...</td>\n",
       "      <td>...</td>\n",
       "      <td>...</td>\n",
       "      <td>...</td>\n",
       "      <td>...</td>\n",
       "      <td>...</td>\n",
       "      <td>...</td>\n",
       "      <td>...</td>\n",
       "      <td>...</td>\n",
       "      <td>...</td>\n",
       "      <td>...</td>\n",
       "    </tr>\n",
       "    <tr>\n",
       "      <th>7901</th>\n",
       "      <td>8124</td>\n",
       "      <td>Hyundai</td>\n",
       "      <td>2013</td>\n",
       "      <td>320000</td>\n",
       "      <td>110000</td>\n",
       "      <td>Central</td>\n",
       "      <td>Texas</td>\n",
       "      <td>Plano</td>\n",
       "      <td>Petrol</td>\n",
       "      <td>Individual</td>\n",
       "      <td>Manual</td>\n",
       "      <td>First_Owner</td>\n",
       "      <td>18.50</td>\n",
       "      <td>1197</td>\n",
       "      <td>82.85</td>\n",
       "      <td>113.7Nm@ 4000rpm</td>\n",
       "      <td>5</td>\n",
       "      <td>No</td>\n",
       "    </tr>\n",
       "    <tr>\n",
       "      <th>7902</th>\n",
       "      <td>8125</td>\n",
       "      <td>Hyundai</td>\n",
       "      <td>2007</td>\n",
       "      <td>135000</td>\n",
       "      <td>119000</td>\n",
       "      <td>Central</td>\n",
       "      <td>Texas</td>\n",
       "      <td>Port Arthur</td>\n",
       "      <td>Diesel</td>\n",
       "      <td>Individual</td>\n",
       "      <td>Manual</td>\n",
       "      <td>Fourth_Above_Owner</td>\n",
       "      <td>16.80</td>\n",
       "      <td>1493</td>\n",
       "      <td>110.00</td>\n",
       "      <td>24@ 1,900-2,750(kgm@ rpm)</td>\n",
       "      <td>5</td>\n",
       "      <td>No</td>\n",
       "    </tr>\n",
       "    <tr>\n",
       "      <th>7903</th>\n",
       "      <td>8126</td>\n",
       "      <td>Maruti</td>\n",
       "      <td>2009</td>\n",
       "      <td>382000</td>\n",
       "      <td>120000</td>\n",
       "      <td>Central</td>\n",
       "      <td>Texas</td>\n",
       "      <td>Port Arthur</td>\n",
       "      <td>Diesel</td>\n",
       "      <td>Individual</td>\n",
       "      <td>Manual</td>\n",
       "      <td>First_Owner</td>\n",
       "      <td>19.30</td>\n",
       "      <td>1248</td>\n",
       "      <td>73.90</td>\n",
       "      <td>190Nm@ 2000rpm</td>\n",
       "      <td>5</td>\n",
       "      <td>No</td>\n",
       "    </tr>\n",
       "    <tr>\n",
       "      <th>7904</th>\n",
       "      <td>8127</td>\n",
       "      <td>Tata</td>\n",
       "      <td>2013</td>\n",
       "      <td>290000</td>\n",
       "      <td>25000</td>\n",
       "      <td>East</td>\n",
       "      <td>Massachusetts</td>\n",
       "      <td>Lunenburg</td>\n",
       "      <td>Diesel</td>\n",
       "      <td>Individual</td>\n",
       "      <td>Manual</td>\n",
       "      <td>First_Owner</td>\n",
       "      <td>23.57</td>\n",
       "      <td>1396</td>\n",
       "      <td>70.00</td>\n",
       "      <td>140Nm@ 1800-3000rpm</td>\n",
       "      <td>5</td>\n",
       "      <td>No</td>\n",
       "    </tr>\n",
       "    <tr>\n",
       "      <th>7905</th>\n",
       "      <td>8128</td>\n",
       "      <td>Tata</td>\n",
       "      <td>2013</td>\n",
       "      <td>290000</td>\n",
       "      <td>25000</td>\n",
       "      <td>East</td>\n",
       "      <td>Maine</td>\n",
       "      <td>Augusta</td>\n",
       "      <td>Diesel</td>\n",
       "      <td>Individual</td>\n",
       "      <td>Manual</td>\n",
       "      <td>First_Owner</td>\n",
       "      <td>23.57</td>\n",
       "      <td>1396</td>\n",
       "      <td>70.00</td>\n",
       "      <td>140Nm@ 1800-3000rpm</td>\n",
       "      <td>5</td>\n",
       "      <td>No</td>\n",
       "    </tr>\n",
       "  </tbody>\n",
       "</table>\n",
       "<p>7906 rows × 18 columns</p>\n",
       "</div>"
      ],
      "text/plain": [
       "      Sales_ID     name  year  selling_price  km_driven   Region  \\\n",
       "0            1   Maruti  2014         450000     145500     East   \n",
       "1            2    Skoda  2014         370000     120000     East   \n",
       "2            3    Honda  2006         158000     140000  Central   \n",
       "3            4  Hyundai  2010         225000     127000  Central   \n",
       "4            5   Maruti  2007         130000     120000     East   \n",
       "...        ...      ...   ...            ...        ...      ...   \n",
       "7901      8124  Hyundai  2013         320000     110000  Central   \n",
       "7902      8125  Hyundai  2007         135000     119000  Central   \n",
       "7903      8126   Maruti  2009         382000     120000  Central   \n",
       "7904      8127     Tata  2013         290000      25000     East   \n",
       "7905      8128     Tata  2013         290000      25000     East   \n",
       "\n",
       "         State or Province           City    fuel seller_type transmission  \\\n",
       "0     District of Columbia     Washington  Diesel  Individual       Manual   \n",
       "1                 New York  New York City  Diesel  Individual       Manual   \n",
       "2                 Illinois        Chicago  Petrol  Individual       Manual   \n",
       "3                 Illinois        Chicago  Diesel  Individual       Manual   \n",
       "4                 New York  New York City  Petrol  Individual       Manual   \n",
       "...                    ...            ...     ...         ...          ...   \n",
       "7901                 Texas          Plano  Petrol  Individual       Manual   \n",
       "7902                 Texas    Port Arthur  Diesel  Individual       Manual   \n",
       "7903                 Texas    Port Arthur  Diesel  Individual       Manual   \n",
       "7904         Massachusetts      Lunenburg  Diesel  Individual       Manual   \n",
       "7905                 Maine        Augusta  Diesel  Individual       Manual   \n",
       "\n",
       "                   owner  mileage  engine  max_power  \\\n",
       "0            First_Owner    23.40    1248      74.00   \n",
       "1           Second_Owner    21.14    1498     103.52   \n",
       "2            Third_Owner    17.70    1497      78.00   \n",
       "3            First_Owner    23.00    1396      90.00   \n",
       "4            First_Owner    16.10    1298      88.20   \n",
       "...                  ...      ...     ...        ...   \n",
       "7901         First_Owner    18.50    1197      82.85   \n",
       "7902  Fourth_Above_Owner    16.80    1493     110.00   \n",
       "7903         First_Owner    19.30    1248      73.90   \n",
       "7904         First_Owner    23.57    1396      70.00   \n",
       "7905         First_Owner    23.57    1396      70.00   \n",
       "\n",
       "                         torque  seats sold  \n",
       "0                190Nm@ 2000rpm      5  Yes  \n",
       "1           250Nm@ 1500-2500rpm      5  Yes  \n",
       "2         12.7@ 2,700(kgm@ rpm)      5  Yes  \n",
       "3      22.4 kgm at 1750-2750rpm      5  Yes  \n",
       "4         11.5@ 4,500(kgm@ rpm)      5  Yes  \n",
       "...                         ...    ...  ...  \n",
       "7901           113.7Nm@ 4000rpm      5   No  \n",
       "7902  24@ 1,900-2,750(kgm@ rpm)      5   No  \n",
       "7903             190Nm@ 2000rpm      5   No  \n",
       "7904        140Nm@ 1800-3000rpm      5   No  \n",
       "7905        140Nm@ 1800-3000rpm      5   No  \n",
       "\n",
       "[7906 rows x 18 columns]"
      ]
     },
     "execution_count": 1,
     "metadata": {},
     "output_type": "execute_result"
    }
   ],
   "source": [
    "### Download the Data\n",
    "\n",
    "import pandas as pd\n",
    "import seaborn as sns\n",
    "import matplotlib.pyplot as plt\n",
    "import numpy as np\n",
    "\n",
    "data = pd.read_csv('C:/Andre files/Used_Cars/archive/UserCarData.csv')\n",
    "data"
   ]
  },
  {
   "cell_type": "code",
   "execution_count": 2,
   "id": "5f5044a9",
   "metadata": {},
   "outputs": [
    {
     "name": "stdout",
     "output_type": "stream",
     "text": [
      "<class 'pandas.core.frame.DataFrame'>\n",
      "RangeIndex: 7906 entries, 0 to 7905\n",
      "Data columns (total 18 columns):\n",
      " #   Column             Non-Null Count  Dtype  \n",
      "---  ------             --------------  -----  \n",
      " 0   Sales_ID           7906 non-null   int64  \n",
      " 1   name               7906 non-null   object \n",
      " 2   year               7906 non-null   int64  \n",
      " 3   selling_price      7906 non-null   int64  \n",
      " 4   km_driven          7906 non-null   int64  \n",
      " 5   Region             7906 non-null   object \n",
      " 6   State or Province  7906 non-null   object \n",
      " 7   City               7906 non-null   object \n",
      " 8   fuel               7906 non-null   object \n",
      " 9   seller_type        7906 non-null   object \n",
      " 10  transmission       7906 non-null   object \n",
      " 11  owner              7906 non-null   object \n",
      " 12  mileage            7906 non-null   float64\n",
      " 13  engine             7906 non-null   int64  \n",
      " 14  max_power          7906 non-null   float64\n",
      " 15  torque             7906 non-null   object \n",
      " 16  seats              7906 non-null   int64  \n",
      " 17  sold               7906 non-null   object \n",
      "dtypes: float64(2), int64(6), object(10)\n",
      "memory usage: 1.1+ MB\n"
     ]
    }
   ],
   "source": [
    "data.info() #Getting more info about the dataset"
   ]
  },
  {
   "cell_type": "code",
   "execution_count": 3,
   "id": "e70d8716",
   "metadata": {},
   "outputs": [
    {
     "data": {
      "text/html": [
       "<div>\n",
       "<style scoped>\n",
       "    .dataframe tbody tr th:only-of-type {\n",
       "        vertical-align: middle;\n",
       "    }\n",
       "\n",
       "    .dataframe tbody tr th {\n",
       "        vertical-align: top;\n",
       "    }\n",
       "\n",
       "    .dataframe thead th {\n",
       "        text-align: right;\n",
       "    }\n",
       "</style>\n",
       "<table border=\"1\" class=\"dataframe\">\n",
       "  <thead>\n",
       "    <tr style=\"text-align: right;\">\n",
       "      <th></th>\n",
       "      <th>Sales_ID</th>\n",
       "      <th>year</th>\n",
       "      <th>selling_price</th>\n",
       "      <th>km_driven</th>\n",
       "      <th>mileage</th>\n",
       "      <th>engine</th>\n",
       "      <th>max_power</th>\n",
       "      <th>seats</th>\n",
       "    </tr>\n",
       "  </thead>\n",
       "  <tbody>\n",
       "    <tr>\n",
       "      <th>count</th>\n",
       "      <td>7906.000000</td>\n",
       "      <td>7906.000000</td>\n",
       "      <td>7.906000e+03</td>\n",
       "      <td>7.906000e+03</td>\n",
       "      <td>7906.000000</td>\n",
       "      <td>7906.000000</td>\n",
       "      <td>7906.000000</td>\n",
       "      <td>7906.000000</td>\n",
       "    </tr>\n",
       "    <tr>\n",
       "      <th>mean</th>\n",
       "      <td>4070.106248</td>\n",
       "      <td>2013.983936</td>\n",
       "      <td>6.498137e+05</td>\n",
       "      <td>6.918866e+04</td>\n",
       "      <td>19.419861</td>\n",
       "      <td>1458.708829</td>\n",
       "      <td>91.587374</td>\n",
       "      <td>5.416393</td>\n",
       "    </tr>\n",
       "    <tr>\n",
       "      <th>std</th>\n",
       "      <td>2345.770159</td>\n",
       "      <td>3.863695</td>\n",
       "      <td>8.135827e+05</td>\n",
       "      <td>5.679230e+04</td>\n",
       "      <td>4.036263</td>\n",
       "      <td>503.893057</td>\n",
       "      <td>35.747216</td>\n",
       "      <td>0.959208</td>\n",
       "    </tr>\n",
       "    <tr>\n",
       "      <th>min</th>\n",
       "      <td>1.000000</td>\n",
       "      <td>1994.000000</td>\n",
       "      <td>2.999900e+04</td>\n",
       "      <td>1.000000e+00</td>\n",
       "      <td>0.000000</td>\n",
       "      <td>624.000000</td>\n",
       "      <td>32.800000</td>\n",
       "      <td>2.000000</td>\n",
       "    </tr>\n",
       "    <tr>\n",
       "      <th>25%</th>\n",
       "      <td>2037.250000</td>\n",
       "      <td>2012.000000</td>\n",
       "      <td>2.700000e+05</td>\n",
       "      <td>3.500000e+04</td>\n",
       "      <td>16.780000</td>\n",
       "      <td>1197.000000</td>\n",
       "      <td>68.050000</td>\n",
       "      <td>5.000000</td>\n",
       "    </tr>\n",
       "    <tr>\n",
       "      <th>50%</th>\n",
       "      <td>4076.500000</td>\n",
       "      <td>2015.000000</td>\n",
       "      <td>4.500000e+05</td>\n",
       "      <td>6.000000e+04</td>\n",
       "      <td>19.300000</td>\n",
       "      <td>1248.000000</td>\n",
       "      <td>82.000000</td>\n",
       "      <td>5.000000</td>\n",
       "    </tr>\n",
       "    <tr>\n",
       "      <th>75%</th>\n",
       "      <td>6102.000000</td>\n",
       "      <td>2017.000000</td>\n",
       "      <td>6.900000e+05</td>\n",
       "      <td>9.542500e+04</td>\n",
       "      <td>22.320000</td>\n",
       "      <td>1582.000000</td>\n",
       "      <td>102.000000</td>\n",
       "      <td>5.000000</td>\n",
       "    </tr>\n",
       "    <tr>\n",
       "      <th>max</th>\n",
       "      <td>8128.000000</td>\n",
       "      <td>2020.000000</td>\n",
       "      <td>1.000000e+07</td>\n",
       "      <td>2.360457e+06</td>\n",
       "      <td>42.000000</td>\n",
       "      <td>3604.000000</td>\n",
       "      <td>400.000000</td>\n",
       "      <td>14.000000</td>\n",
       "    </tr>\n",
       "  </tbody>\n",
       "</table>\n",
       "</div>"
      ],
      "text/plain": [
       "          Sales_ID         year  selling_price     km_driven      mileage  \\\n",
       "count  7906.000000  7906.000000   7.906000e+03  7.906000e+03  7906.000000   \n",
       "mean   4070.106248  2013.983936   6.498137e+05  6.918866e+04    19.419861   \n",
       "std    2345.770159     3.863695   8.135827e+05  5.679230e+04     4.036263   \n",
       "min       1.000000  1994.000000   2.999900e+04  1.000000e+00     0.000000   \n",
       "25%    2037.250000  2012.000000   2.700000e+05  3.500000e+04    16.780000   \n",
       "50%    4076.500000  2015.000000   4.500000e+05  6.000000e+04    19.300000   \n",
       "75%    6102.000000  2017.000000   6.900000e+05  9.542500e+04    22.320000   \n",
       "max    8128.000000  2020.000000   1.000000e+07  2.360457e+06    42.000000   \n",
       "\n",
       "            engine    max_power        seats  \n",
       "count  7906.000000  7906.000000  7906.000000  \n",
       "mean   1458.708829    91.587374     5.416393  \n",
       "std     503.893057    35.747216     0.959208  \n",
       "min     624.000000    32.800000     2.000000  \n",
       "25%    1197.000000    68.050000     5.000000  \n",
       "50%    1248.000000    82.000000     5.000000  \n",
       "75%    1582.000000   102.000000     5.000000  \n",
       "max    3604.000000   400.000000    14.000000  "
      ]
     },
     "execution_count": 3,
     "metadata": {},
     "output_type": "execute_result"
    }
   ],
   "source": [
    "# getting stats from the variables\n",
    "data.describe()"
   ]
  },
  {
   "cell_type": "code",
   "execution_count": 4,
   "id": "070f3a86",
   "metadata": {},
   "outputs": [
    {
     "data": {
      "text/plain": [
       "8"
      ]
     },
     "execution_count": 4,
     "metadata": {},
     "output_type": "execute_result"
    }
   ],
   "source": [
    "# finding the numerical columns \n",
    "numerics = ['int16', 'int32', 'int64', 'float16', 'float32', 'float64']\n",
    "\n",
    "num_data = data.select_dtypes(include=numerics)\n",
    "len(num_data.columns)"
   ]
  },
  {
   "cell_type": "code",
   "execution_count": 5,
   "id": "7881828a",
   "metadata": {},
   "outputs": [
    {
     "data": {
      "text/plain": [
       "Sales_ID             0\n",
       "name                 0\n",
       "seats                0\n",
       "torque               0\n",
       "max_power            0\n",
       "engine               0\n",
       "mileage              0\n",
       "owner                0\n",
       "transmission         0\n",
       "seller_type          0\n",
       "fuel                 0\n",
       "City                 0\n",
       "State or Province    0\n",
       "Region               0\n",
       "km_driven            0\n",
       "selling_price        0\n",
       "year                 0\n",
       "sold                 0\n",
       "dtype: int64"
      ]
     },
     "execution_count": 5,
     "metadata": {},
     "output_type": "execute_result"
    }
   ],
   "source": [
    "# Is there any missing values\n",
    "\n",
    "data.isna().sum().sort_values(ascending=False)\n",
    "\n",
    "#There are no missing values"
   ]
  },
  {
   "cell_type": "code",
   "execution_count": 6,
   "id": "202ca4c3",
   "metadata": {},
   "outputs": [
    {
     "data": {
      "text/plain": [
       "Index(['Sales_ID', 'name', 'year', 'selling_price', 'km_driven', 'Region',\n",
       "       'State or Province', 'City', 'fuel', 'seller_type', 'transmission',\n",
       "       'owner', 'mileage', 'engine', 'max_power', 'torque', 'seats', 'sold'],\n",
       "      dtype='object')"
      ]
     },
     "execution_count": 6,
     "metadata": {},
     "output_type": "execute_result"
    }
   ],
   "source": [
    "data.columns"
   ]
  },
  {
   "cell_type": "code",
   "execution_count": 7,
   "id": "046a07f7",
   "metadata": {},
   "outputs": [
    {
     "data": {
      "text/plain": [
       "0       Yes\n",
       "1       Yes\n",
       "2       Yes\n",
       "3       Yes\n",
       "4       Yes\n",
       "       ... \n",
       "7901     No\n",
       "7902     No\n",
       "7903     No\n",
       "7904     No\n",
       "7905     No\n",
       "Name: sold, Length: 7906, dtype: object"
      ]
     },
     "execution_count": 7,
     "metadata": {},
     "output_type": "execute_result"
    }
   ],
   "source": [
    "# Transform my y variable to int\n",
    "data['sold']"
   ]
  },
  {
   "cell_type": "code",
   "execution_count": 8,
   "id": "ee05edce",
   "metadata": {},
   "outputs": [
    {
     "data": {
      "text/plain": [
       "Sales_ID               int64\n",
       "name                  object\n",
       "year                   int64\n",
       "selling_price          int64\n",
       "km_driven              int64\n",
       "Region                object\n",
       "State or Province     object\n",
       "City                  object\n",
       "fuel                  object\n",
       "seller_type           object\n",
       "transmission          object\n",
       "owner                 object\n",
       "mileage              float64\n",
       "engine                 int64\n",
       "max_power            float64\n",
       "torque                object\n",
       "seats                  int64\n",
       "sold                  object\n",
       "dtype: object"
      ]
     },
     "execution_count": 8,
     "metadata": {},
     "output_type": "execute_result"
    }
   ],
   "source": [
    "data.dtypes"
   ]
  },
  {
   "cell_type": "code",
   "execution_count": 9,
   "id": "c2bcdb47",
   "metadata": {},
   "outputs": [],
   "source": [
    "#Let's create a new column called car_sold"
   ]
  },
  {
   "cell_type": "code",
   "execution_count": 10,
   "id": "d4a1195d",
   "metadata": {},
   "outputs": [],
   "source": [
    "data.sold = data['sold'].map({'No':0, 'Yes':1})"
   ]
  },
  {
   "cell_type": "code",
   "execution_count": 11,
   "id": "7ee01e98",
   "metadata": {},
   "outputs": [
    {
     "data": {
      "text/plain": [
       "0       1\n",
       "1       1\n",
       "2       1\n",
       "3       1\n",
       "4       1\n",
       "       ..\n",
       "7901    0\n",
       "7902    0\n",
       "7903    0\n",
       "7904    0\n",
       "7905    0\n",
       "Name: sold, Length: 7906, dtype: int64"
      ]
     },
     "execution_count": 11,
     "metadata": {},
     "output_type": "execute_result"
    }
   ],
   "source": [
    "data.sold"
   ]
  },
  {
   "cell_type": "markdown",
   "id": "4842cc7f",
   "metadata": {},
   "source": [
    "## Data Analysis and Visualisation\n",
    "### Cars available or sold"
   ]
  },
  {
   "cell_type": "code",
   "execution_count": 12,
   "id": "5cf80c2e",
   "metadata": {},
   "outputs": [
    {
     "data": {
      "text/plain": [
       "0        Maruti\n",
       "1         Skoda\n",
       "2         Honda\n",
       "3       Hyundai\n",
       "4        Maruti\n",
       "         ...   \n",
       "7901    Hyundai\n",
       "7902    Hyundai\n",
       "7903     Maruti\n",
       "7904       Tata\n",
       "7905       Tata\n",
       "Name: name, Length: 7906, dtype: object"
      ]
     },
     "execution_count": 12,
     "metadata": {},
     "output_type": "execute_result"
    }
   ],
   "source": [
    "data.name"
   ]
  },
  {
   "cell_type": "code",
   "execution_count": 13,
   "id": "e1620b09",
   "metadata": {},
   "outputs": [
    {
     "data": {
      "text/plain": [
       "31"
      ]
     },
     "execution_count": 13,
     "metadata": {},
     "output_type": "execute_result"
    }
   ],
   "source": [
    "# Let's get the car types\n",
    "car_type = data.name.unique()\n",
    "len(car_type)"
   ]
  },
  {
   "cell_type": "code",
   "execution_count": 14,
   "id": "b9c3a0d7",
   "metadata": {},
   "outputs": [
    {
     "data": {
      "text/plain": [
       "Maruti        2367\n",
       "Hyundai       1360\n",
       "Mahindra       758\n",
       "Tata           719\n",
       "Honda          466\n",
       "Toyota         452\n",
       "Ford           388\n",
       "Chevrolet      230\n",
       "Renault        228\n",
       "Volkswagen     185\n",
       "BMW            118\n",
       "Skoda          104\n",
       "Nissan          81\n",
       "Jaguar          71\n",
       "Volvo           67\n",
       "Datsun          65\n",
       "Mercedes        54\n",
       "Fiat            41\n",
       "Audi            40\n",
       "Lexus           34\n",
       "Jeep            31\n",
       "Mitsubishi      14\n",
       "Force            6\n",
       "Land             6\n",
       "Isuzu            5\n",
       "Kia              4\n",
       "Ambassador       4\n",
       "Daewoo           3\n",
       "MG               3\n",
       "Ashok            1\n",
       "Opel             1\n",
       "Name: name, dtype: int64"
      ]
     },
     "execution_count": 14,
     "metadata": {},
     "output_type": "execute_result"
    }
   ],
   "source": [
    "# Cars available / sold per brand\n",
    "\n",
    "cars_brand = data.name.value_counts()\n",
    "cars_brand"
   ]
  },
  {
   "cell_type": "code",
   "execution_count": 15,
   "id": "caac624f",
   "metadata": {},
   "outputs": [
    {
     "data": {
      "text/plain": [
       "<AxesSubplot:>"
      ]
     },
     "execution_count": 15,
     "metadata": {},
     "output_type": "execute_result"
    },
    {
     "data": {
      "image/png": "[encoded data removed]",
      "text/plain": [
       "<Figure size 432x288 with 1 Axes>"
      ]
     },
     "metadata": {
      "needs_background": "light"
     },
     "output_type": "display_data"
    }
   ],
   "source": [
    "# let's plot this result for a better picture\n",
    "cars_brand[:10].plot(kind='barh')"
   ]
  },
  {
   "cell_type": "code",
   "execution_count": 16,
   "id": "aaa10e97",
   "metadata": {},
   "outputs": [
    {
     "data": {
      "image/png": "[encoded data removed]",
      "text/plain": [
       "<Figure size 1152x648 with 1 Axes>"
      ]
     },
     "metadata": {
      "needs_background": "light"
     },
     "output_type": "display_data"
    }
   ],
   "source": [
    "fig, ax = plt.subplots(figsize=(16,9))\n",
    "sns.countplot(x = 'name', data = data)\n",
    "plt.setp(ax.get_xticklabels(), rotation=30, horizontalalignment='right')\n",
    "plt.show()"
   ]
  },
  {
   "cell_type": "code",
   "execution_count": 17,
   "id": "fb103741",
   "metadata": {},
   "outputs": [
    {
     "data": {
      "text/plain": [
       "Index(['Sales_ID', 'name', 'year', 'selling_price', 'km_driven', 'Region',\n",
       "       'State or Province', 'City', 'fuel', 'seller_type', 'transmission',\n",
       "       'owner', 'mileage', 'engine', 'max_power', 'torque', 'seats', 'sold'],\n",
       "      dtype='object')"
      ]
     },
     "execution_count": 17,
     "metadata": {},
     "output_type": "execute_result"
    }
   ],
   "source": [
    "data.columns"
   ]
  },
  {
   "cell_type": "code",
   "execution_count": 18,
   "id": "2becbd3f",
   "metadata": {},
   "outputs": [],
   "source": [
    "data.reset_index(inplace=True)"
   ]
  },
  {
   "cell_type": "code",
   "execution_count": 19,
   "id": "74079641",
   "metadata": {},
   "outputs": [],
   "source": [
    "data = data.rename(columns = {'index':'Index_ID'})"
   ]
  },
  {
   "cell_type": "code",
   "execution_count": 20,
   "id": "be71bfc9",
   "metadata": {},
   "outputs": [
    {
     "name": "stdout",
     "output_type": "stream",
     "text": [
      "sold  name      \n",
      "0     Ambassador       4\n",
      "      Ashok            1\n",
      "      Audi            31\n",
      "      BMW             89\n",
      "      Chevrolet      174\n",
      "      Daewoo           2\n",
      "      Datsun          49\n",
      "      Fiat            35\n",
      "      Force            5\n",
      "      Ford           296\n",
      "      Honda          342\n",
      "      Hyundai       1028\n",
      "      Isuzu            5\n",
      "      Jaguar          50\n",
      "      Jeep            22\n",
      "      Kia              2\n",
      "      Land             5\n",
      "      Lexus           23\n",
      "      MG               1\n",
      "      Mahindra       557\n",
      "      Maruti        1770\n",
      "      Mercedes        38\n",
      "      Mitsubishi      11\n",
      "      Nissan          48\n",
      "      Opel             1\n",
      "      Renault        172\n",
      "      Skoda           84\n",
      "      Tata           541\n",
      "      Toyota         326\n",
      "      Volkswagen     146\n",
      "      Volvo           48\n",
      "1     Audi             9\n",
      "      BMW             29\n",
      "      Chevrolet       56\n",
      "      Daewoo           1\n",
      "      Datsun          16\n",
      "      Fiat             6\n",
      "      Force            1\n",
      "      Ford            92\n",
      "      Honda          124\n",
      "      Hyundai        332\n",
      "      Jaguar          21\n",
      "      Jeep             9\n",
      "      Kia              2\n",
      "      Land             1\n",
      "      Lexus           11\n",
      "      MG               2\n",
      "      Mahindra       201\n",
      "      Maruti         597\n",
      "      Mercedes        16\n",
      "      Mitsubishi       3\n",
      "      Nissan          33\n",
      "      Renault         56\n",
      "      Skoda           20\n",
      "      Tata           178\n",
      "      Toyota         126\n",
      "      Volkswagen      39\n",
      "      Volvo           19\n",
      "Name: Index_ID, dtype: int64\n"
     ]
    }
   ],
   "source": [
    "data_groupby = data.groupby(['sold','name'])['Index_ID'].count()\n",
    "print(data_groupby)"
   ]
  },
  {
   "cell_type": "code",
   "execution_count": 21,
   "id": "18315678",
   "metadata": {},
   "outputs": [],
   "source": [
    "Maruti = 597\n",
    "Hyundai = 332\n",
    "Mahindra = 201\n",
    "Tata = 178\n",
    "Toyota = 126\n",
    "Honda = 124\n",
    "Ford = 92\n",
    "Chevrolet = 56\n",
    "Renault = 56\n",
    "Volkswagen = 39\n",
    "Total_sold = 2000\n",
    "Total = 7906"
   ]
  },
  {
   "cell_type": "code",
   "execution_count": 22,
   "id": "10be28ec",
   "metadata": {},
   "outputs": [
    {
     "data": {
      "text/plain": [
       "0    5906\n",
       "1    2000\n",
       "Name: sold, dtype: int64"
      ]
     },
     "execution_count": 22,
     "metadata": {},
     "output_type": "execute_result"
    }
   ],
   "source": [
    "data.sold.value_counts()"
   ]
  },
  {
   "cell_type": "code",
   "execution_count": 23,
   "id": "549f665c",
   "metadata": {},
   "outputs": [],
   "source": [
    "import seaborn as sns\n",
    "import matplotlib.pyplot as plt\n",
    "import numpy as pd"
   ]
  },
  {
   "cell_type": "code",
   "execution_count": 24,
   "id": "17aa878e",
   "metadata": {},
   "outputs": [
    {
     "name": "stdout",
     "output_type": "stream",
     "text": [
      "(597, 332, 201, 178, 126, 124, 92, 56, 56, 39)\n"
     ]
    }
   ],
   "source": [
    "Cars_Sold = Maruti, Hyundai, Mahindra, Tata, Toyota, Honda, Ford, Chevrolet, Renault, Volkswagen\n",
    "print(Cars_Sold)"
   ]
  },
  {
   "cell_type": "code",
   "execution_count": 25,
   "id": "ff932882",
   "metadata": {},
   "outputs": [
    {
     "name": "stdout",
     "output_type": "stream",
     "text": [
      "29.849999999999998 16.6 10.05 8.9 6.3\n"
     ]
    }
   ],
   "source": [
    "Maruti = Maruti / Total_sold *100\n",
    "Hyundai = Hyundai / Total_sold *100\n",
    "Mahindra = Mahindra / Total_sold *100\n",
    "Tata = Tata / Total_sold *100\n",
    "Toyota = Toyota / Total_sold *100\n",
    "print(Maruti, Hyundai, Mahindra, Tata, Toyota)"
   ]
  },
  {
   "cell_type": "code",
   "execution_count": 26,
   "id": "e76b0cbf",
   "metadata": {},
   "outputs": [],
   "source": [
    "# Maruti represents circa 30% of total cars sold \n",
    "# Hyundai 17%\n",
    "# Mahindra 10%\n",
    "# Tata 9%\n",
    "# Toyota 6\n",
    "\n",
    "### Maruti and Hyundai also make the majority of cars in the dataset "
   ]
  },
  {
   "cell_type": "markdown",
   "id": "5eaf1f92",
   "metadata": {},
   "source": [
    "### Year"
   ]
  },
  {
   "cell_type": "code",
   "execution_count": 27,
   "id": "af538476",
   "metadata": {},
   "outputs": [
    {
     "data": {
      "text/plain": [
       "0       2014\n",
       "1       2014\n",
       "2       2006\n",
       "3       2010\n",
       "4       2007\n",
       "        ... \n",
       "7901    2013\n",
       "7902    2007\n",
       "7903    2009\n",
       "7904    2013\n",
       "7905    2013\n",
       "Name: year, Length: 7906, dtype: int64"
      ]
     },
     "execution_count": 27,
     "metadata": {},
     "output_type": "execute_result"
    }
   ],
   "source": [
    "data.year"
   ]
  },
  {
   "cell_type": "code",
   "execution_count": 28,
   "id": "1c52f9dc",
   "metadata": {},
   "outputs": [
    {
     "data": {
      "text/plain": [
       "count    7906.000000\n",
       "mean     2013.983936\n",
       "std         3.863695\n",
       "min      1994.000000\n",
       "25%      2012.000000\n",
       "50%      2015.000000\n",
       "75%      2017.000000\n",
       "max      2020.000000\n",
       "Name: year, dtype: float64"
      ]
     },
     "execution_count": 28,
     "metadata": {},
     "output_type": "execute_result"
    }
   ],
   "source": [
    "data.year.describe()"
   ]
  },
  {
   "cell_type": "code",
   "execution_count": 29,
   "id": "acb2cb13",
   "metadata": {},
   "outputs": [],
   "source": [
    "from scipy import stats\n",
    "import scipy as scipy "
   ]
  },
  {
   "cell_type": "code",
   "execution_count": 30,
   "id": "f510d4ee",
   "metadata": {},
   "outputs": [
    {
     "data": {
      "text/plain": [
       "<Figure size 432x288 with 0 Axes>"
      ]
     },
     "execution_count": 30,
     "metadata": {},
     "output_type": "execute_result"
    },
    {
     "data": {
      "image/png": "[encoded data removed]",
      "text/plain": [
       "<Figure size 432x288 with 1 Axes>"
      ]
     },
     "metadata": {
      "needs_background": "light"
     },
     "output_type": "display_data"
    },
    {
     "data": {
      "text/plain": [
       "<Figure size 432x288 with 0 Axes>"
      ]
     },
     "metadata": {},
     "output_type": "display_data"
    }
   ],
   "source": [
    "#Check if the variable is normally distributed with a graph \n",
    "stats.probplot(data.year, plot=plt)\n",
    "plt.figure()"
   ]
  },
  {
   "cell_type": "code",
   "execution_count": 31,
   "id": "fb7d9f2c",
   "metadata": {},
   "outputs": [
    {
     "name": "stderr",
     "output_type": "stream",
     "text": [
      "C:\\Users\\andre\\anaconda3\\lib\\site-packages\\scipy\\stats\\morestats.py:1760: UserWarning: p-value may not be accurate for N > 5000.\n",
      "  warnings.warn(\"p-value may not be accurate for N > 5000.\")\n"
     ]
    },
    {
     "data": {
      "text/plain": [
       "ShapiroResult(statistic=0.9312893748283386, pvalue=0.0)"
      ]
     },
     "execution_count": 31,
     "metadata": {},
     "output_type": "execute_result"
    }
   ],
   "source": [
    "# Shapiro Wilk Test\n",
    "stats.shapiro(data.year)\n",
    "\n",
    "# Running this command we can observe 2 values (test statistics and p-value)\n",
    "\n",
    "# H0 is that the data is normal\n",
    "# HI data is not normal "
   ]
  },
  {
   "cell_type": "code",
   "execution_count": 32,
   "id": "9236bdff",
   "metadata": {},
   "outputs": [],
   "source": [
    "# based on the p-value of 0.0 (<= 0.05) we reject H0 and assume that our data is not normally distributed. "
   ]
  },
  {
   "cell_type": "code",
   "execution_count": 33,
   "id": "f65f0684",
   "metadata": {},
   "outputs": [],
   "source": [
    "# let's filter the data by cars sold only"
   ]
  },
  {
   "cell_type": "code",
   "execution_count": 34,
   "id": "51a0774e",
   "metadata": {},
   "outputs": [
    {
     "name": "stdout",
     "output_type": "stream",
     "text": [
      "      Index_ID  Sales_ID        name  year  selling_price  km_driven   Region  \\\n",
      "0            0         1      Maruti  2014         450000     145500     East   \n",
      "1            1         2       Skoda  2014         370000     120000     East   \n",
      "2            2         3       Honda  2006         158000     140000  Central   \n",
      "3            3         4     Hyundai  2010         225000     127000  Central   \n",
      "4            4         5      Maruti  2007         130000     120000     East   \n",
      "...        ...       ...         ...   ...            ...        ...      ...   \n",
      "1997      1997      2059      Maruti  2016         245000      50000     West   \n",
      "1998      1998      2060        Tata  2013         260000     189000     West   \n",
      "1999      1999      2061  Volkswagen  2014         411000      90000     West   \n",
      "2000      2000      2062     Hyundai  2014         450000      56000     West   \n",
      "2001      2001      2063         BMW  2012        1300000     140000     West   \n",
      "\n",
      "         State or Province           City    fuel seller_type transmission  \\\n",
      "0     District of Columbia     Washington  Diesel  Individual       Manual   \n",
      "1                 New York  New York City  Diesel  Individual       Manual   \n",
      "2                 Illinois        Chicago  Petrol  Individual       Manual   \n",
      "3                 Illinois        Chicago  Diesel  Individual       Manual   \n",
      "4                 New York  New York City  Petrol  Individual       Manual   \n",
      "...                    ...            ...     ...         ...          ...   \n",
      "1997                  Utah         Layton  Petrol  Individual       Manual   \n",
      "1998                  Utah         Kearns  Diesel  Individual       Manual   \n",
      "1999                  Utah         Layton  Diesel  Individual    Automatic   \n",
      "2000                  Utah         Layton  Diesel  Individual       Manual   \n",
      "2001                  Utah         Layton  Diesel  Individual    Automatic   \n",
      "\n",
      "             owner  mileage  engine  max_power                    torque  \\\n",
      "0      First_Owner    23.40    1248      74.00            190Nm@ 2000rpm   \n",
      "1     Second_Owner    21.14    1498     103.52       250Nm@ 1500-2500rpm   \n",
      "2      Third_Owner    17.70    1497      78.00     12.7@ 2,700(kgm@ rpm)   \n",
      "3      First_Owner    23.00    1396      90.00  22.4 kgm at 1750-2750rpm   \n",
      "4      First_Owner    16.10    1298      88.20     11.5@ 4,500(kgm@ rpm)   \n",
      "...            ...      ...     ...        ...                       ...   \n",
      "1997   First_Owner    22.74     796      47.30             69Nm@ 3500rpm   \n",
      "1998   First_Owner    21.02    1248      88.76       200Nm@ 1750-3000rpm   \n",
      "1999  Second_Owner    21.21    1498     103.20       250Nm@ 1500-2500rpm   \n",
      "2000   First_Owner    21.90    1396      88.76     219.6Nm@ 1750-2750rpm   \n",
      "2001  Second_Owner    18.88    1995     184.00       380Nm@ 1750-2750rpm   \n",
      "\n",
      "      seats  sold  \n",
      "0         5     1  \n",
      "1         5     1  \n",
      "2         5     1  \n",
      "3         5     1  \n",
      "4         5     1  \n",
      "...     ...   ...  \n",
      "1997      5     1  \n",
      "1998      5     1  \n",
      "1999      5     1  \n",
      "2000      5     0  \n",
      "2001      5     0  \n",
      "\n",
      "[2002 rows x 19 columns]\n"
     ]
    }
   ],
   "source": [
    "df2 = data[data.Index_ID <= 2001]\n",
    "print(df2)"
   ]
  },
  {
   "cell_type": "code",
   "execution_count": 35,
   "id": "9eea26a0",
   "metadata": {},
   "outputs": [
    {
     "data": {
      "text/html": [
       "<div>\n",
       "<style scoped>\n",
       "    .dataframe tbody tr th:only-of-type {\n",
       "        vertical-align: middle;\n",
       "    }\n",
       "\n",
       "    .dataframe tbody tr th {\n",
       "        vertical-align: top;\n",
       "    }\n",
       "\n",
       "    .dataframe thead th {\n",
       "        text-align: right;\n",
       "    }\n",
       "</style>\n",
       "<table border=\"1\" class=\"dataframe\">\n",
       "  <thead>\n",
       "    <tr style=\"text-align: right;\">\n",
       "      <th></th>\n",
       "      <th>Index_ID</th>\n",
       "      <th>Sales_ID</th>\n",
       "      <th>name</th>\n",
       "      <th>year</th>\n",
       "      <th>selling_price</th>\n",
       "      <th>km_driven</th>\n",
       "      <th>Region</th>\n",
       "      <th>State or Province</th>\n",
       "      <th>City</th>\n",
       "      <th>fuel</th>\n",
       "      <th>seller_type</th>\n",
       "      <th>transmission</th>\n",
       "      <th>owner</th>\n",
       "      <th>mileage</th>\n",
       "      <th>engine</th>\n",
       "      <th>max_power</th>\n",
       "      <th>torque</th>\n",
       "      <th>seats</th>\n",
       "      <th>sold</th>\n",
       "    </tr>\n",
       "  </thead>\n",
       "  <tbody>\n",
       "    <tr>\n",
       "      <th>0</th>\n",
       "      <td>0</td>\n",
       "      <td>1</td>\n",
       "      <td>Maruti</td>\n",
       "      <td>2014</td>\n",
       "      <td>450000</td>\n",
       "      <td>145500</td>\n",
       "      <td>East</td>\n",
       "      <td>District of Columbia</td>\n",
       "      <td>Washington</td>\n",
       "      <td>Diesel</td>\n",
       "      <td>Individual</td>\n",
       "      <td>Manual</td>\n",
       "      <td>First_Owner</td>\n",
       "      <td>23.40</td>\n",
       "      <td>1248</td>\n",
       "      <td>74.00</td>\n",
       "      <td>190Nm@ 2000rpm</td>\n",
       "      <td>5</td>\n",
       "      <td>1</td>\n",
       "    </tr>\n",
       "    <tr>\n",
       "      <th>1</th>\n",
       "      <td>1</td>\n",
       "      <td>2</td>\n",
       "      <td>Skoda</td>\n",
       "      <td>2014</td>\n",
       "      <td>370000</td>\n",
       "      <td>120000</td>\n",
       "      <td>East</td>\n",
       "      <td>New York</td>\n",
       "      <td>New York City</td>\n",
       "      <td>Diesel</td>\n",
       "      <td>Individual</td>\n",
       "      <td>Manual</td>\n",
       "      <td>Second_Owner</td>\n",
       "      <td>21.14</td>\n",
       "      <td>1498</td>\n",
       "      <td>103.52</td>\n",
       "      <td>250Nm@ 1500-2500rpm</td>\n",
       "      <td>5</td>\n",
       "      <td>1</td>\n",
       "    </tr>\n",
       "    <tr>\n",
       "      <th>2</th>\n",
       "      <td>2</td>\n",
       "      <td>3</td>\n",
       "      <td>Honda</td>\n",
       "      <td>2006</td>\n",
       "      <td>158000</td>\n",
       "      <td>140000</td>\n",
       "      <td>Central</td>\n",
       "      <td>Illinois</td>\n",
       "      <td>Chicago</td>\n",
       "      <td>Petrol</td>\n",
       "      <td>Individual</td>\n",
       "      <td>Manual</td>\n",
       "      <td>Third_Owner</td>\n",
       "      <td>17.70</td>\n",
       "      <td>1497</td>\n",
       "      <td>78.00</td>\n",
       "      <td>12.7@ 2,700(kgm@ rpm)</td>\n",
       "      <td>5</td>\n",
       "      <td>1</td>\n",
       "    </tr>\n",
       "    <tr>\n",
       "      <th>3</th>\n",
       "      <td>3</td>\n",
       "      <td>4</td>\n",
       "      <td>Hyundai</td>\n",
       "      <td>2010</td>\n",
       "      <td>225000</td>\n",
       "      <td>127000</td>\n",
       "      <td>Central</td>\n",
       "      <td>Illinois</td>\n",
       "      <td>Chicago</td>\n",
       "      <td>Diesel</td>\n",
       "      <td>Individual</td>\n",
       "      <td>Manual</td>\n",
       "      <td>First_Owner</td>\n",
       "      <td>23.00</td>\n",
       "      <td>1396</td>\n",
       "      <td>90.00</td>\n",
       "      <td>22.4 kgm at 1750-2750rpm</td>\n",
       "      <td>5</td>\n",
       "      <td>1</td>\n",
       "    </tr>\n",
       "    <tr>\n",
       "      <th>4</th>\n",
       "      <td>4</td>\n",
       "      <td>5</td>\n",
       "      <td>Maruti</td>\n",
       "      <td>2007</td>\n",
       "      <td>130000</td>\n",
       "      <td>120000</td>\n",
       "      <td>East</td>\n",
       "      <td>New York</td>\n",
       "      <td>New York City</td>\n",
       "      <td>Petrol</td>\n",
       "      <td>Individual</td>\n",
       "      <td>Manual</td>\n",
       "      <td>First_Owner</td>\n",
       "      <td>16.10</td>\n",
       "      <td>1298</td>\n",
       "      <td>88.20</td>\n",
       "      <td>11.5@ 4,500(kgm@ rpm)</td>\n",
       "      <td>5</td>\n",
       "      <td>1</td>\n",
       "    </tr>\n",
       "  </tbody>\n",
       "</table>\n",
       "</div>"
      ],
      "text/plain": [
       "   Index_ID  Sales_ID     name  year  selling_price  km_driven   Region  \\\n",
       "0         0         1   Maruti  2014         450000     145500     East   \n",
       "1         1         2    Skoda  2014         370000     120000     East   \n",
       "2         2         3    Honda  2006         158000     140000  Central   \n",
       "3         3         4  Hyundai  2010         225000     127000  Central   \n",
       "4         4         5   Maruti  2007         130000     120000     East   \n",
       "\n",
       "      State or Province           City    fuel seller_type transmission  \\\n",
       "0  District of Columbia     Washington  Diesel  Individual       Manual   \n",
       "1              New York  New York City  Diesel  Individual       Manual   \n",
       "2              Illinois        Chicago  Petrol  Individual       Manual   \n",
       "3              Illinois        Chicago  Diesel  Individual       Manual   \n",
       "4              New York  New York City  Petrol  Individual       Manual   \n",
       "\n",
       "          owner  mileage  engine  max_power                    torque  seats  \\\n",
       "0   First_Owner    23.40    1248      74.00            190Nm@ 2000rpm      5   \n",
       "1  Second_Owner    21.14    1498     103.52       250Nm@ 1500-2500rpm      5   \n",
       "2   Third_Owner    17.70    1497      78.00     12.7@ 2,700(kgm@ rpm)      5   \n",
       "3   First_Owner    23.00    1396      90.00  22.4 kgm at 1750-2750rpm      5   \n",
       "4   First_Owner    16.10    1298      88.20     11.5@ 4,500(kgm@ rpm)      5   \n",
       "\n",
       "   sold  \n",
       "0     1  \n",
       "1     1  \n",
       "2     1  \n",
       "3     1  \n",
       "4     1  "
      ]
     },
     "execution_count": 35,
     "metadata": {},
     "output_type": "execute_result"
    }
   ],
   "source": [
    "df2.head()"
   ]
  },
  {
   "cell_type": "code",
   "execution_count": 36,
   "id": "1caa139e",
   "metadata": {},
   "outputs": [
    {
     "data": {
      "text/plain": [
       "<Figure size 432x288 with 0 Axes>"
      ]
     },
     "execution_count": 36,
     "metadata": {},
     "output_type": "execute_result"
    },
    {
     "data": {
      "image/png": "[encoded data removed]",
      "text/plain": [
       "<Figure size 432x288 with 1 Axes>"
      ]
     },
     "metadata": {
      "needs_background": "light"
     },
     "output_type": "display_data"
    },
    {
     "data": {
      "text/plain": [
       "<Figure size 432x288 with 0 Axes>"
      ]
     },
     "metadata": {},
     "output_type": "display_data"
    }
   ],
   "source": [
    "#let's re-run the dist test\n",
    "stats.probplot(df2.year, plot=plt)\n",
    "plt.figure()"
   ]
  },
  {
   "cell_type": "code",
   "execution_count": 37,
   "id": "d60944db",
   "metadata": {},
   "outputs": [
    {
     "data": {
      "text/plain": [
       "ShapiroResult(statistic=0.9375806450843811, pvalue=3.2408793176645233e-28)"
      ]
     },
     "execution_count": 37,
     "metadata": {},
     "output_type": "execute_result"
    }
   ],
   "source": [
    "# shapiro wilk test\n",
    "stats.shapiro(df2.year)"
   ]
  },
  {
   "cell_type": "code",
   "execution_count": 38,
   "id": "2349b537",
   "metadata": {},
   "outputs": [],
   "source": [
    "# even with only cars sold we still have our variable year not normally distributed "
   ]
  },
  {
   "cell_type": "code",
   "execution_count": 39,
   "id": "3dec20b3",
   "metadata": {},
   "outputs": [
    {
     "data": {
      "text/plain": [
       "<AxesSubplot:xlabel='year', ylabel='selling_price'>"
      ]
     },
     "execution_count": 39,
     "metadata": {},
     "output_type": "execute_result"
    },
    {
     "data": {
      "image/png": "[encoded data removed]",
      "text/plain": [
       "<Figure size 432x432 with 1 Axes>"
      ]
     },
     "metadata": {
      "needs_background": "light"
     },
     "output_type": "display_data"
    }
   ],
   "source": [
    "#Let's see if there is a correlation between car sold and year\n",
    "plt.figure(figsize=(6,6))\n",
    "#sns.boxplot(x='year', data=data)\n",
    "sns.scatterplot(x='year',y='selling_price', data=data)\n",
    "# "
   ]
  },
  {
   "cell_type": "code",
   "execution_count": null,
   "id": "4cdb7a16",
   "metadata": {},
   "outputs": [],
   "source": [
    "#plt.figure(figsize=(6,6))\n",
    "#sns.boxplot(x='Store_Area', data=data)\n",
    "#sns.scatterplot(x='Items_Available',y='Store_Area', data=data)"
   ]
  },
  {
   "cell_type": "code",
   "execution_count": 40,
   "id": "a2f720d4",
   "metadata": {},
   "outputs": [
    {
     "name": "stdout",
     "output_type": "stream",
     "text": [
      "sold  year\n",
      "0     1994      1\n",
      "      1995      1\n",
      "      1996      2\n",
      "      1997      9\n",
      "      1998      9\n",
      "      1999     11\n",
      "      2000     10\n",
      "      2001      4\n",
      "      2002     12\n",
      "      2003     27\n",
      "      2004     38\n",
      "      2005     51\n",
      "      2006     79\n",
      "      2007    145\n",
      "      2008    158\n",
      "      2009    160\n",
      "      2010    279\n",
      "      2011    415\n",
      "      2012    462\n",
      "      2013    494\n",
      "      2014    476\n",
      "      2015    575\n",
      "      2016    631\n",
      "      2017    754\n",
      "      2018    619\n",
      "      2019    429\n",
      "      2020     55\n",
      "1     1994      1\n",
      "      1999      3\n",
      "      2000      5\n",
      "      2001      2\n",
      "      2002      7\n",
      "      2003     10\n",
      "      2004     13\n",
      "      2005     25\n",
      "      2006     23\n",
      "      2007     28\n",
      "      2008     43\n",
      "      2009     71\n",
      "      2010     96\n",
      "      2011    155\n",
      "      2012    159\n",
      "      2013    174\n",
      "      2014    144\n",
      "      2015    200\n",
      "      2016    225\n",
      "      2017    256\n",
      "      2018    187\n",
      "      2019    154\n",
      "      2020     19\n",
      "Name: Index_ID, dtype: int64\n"
     ]
    }
   ],
   "source": [
    "# Group by year and car solve \n",
    "data_groupby = data.groupby(['sold','year'])['Index_ID'].count()\n",
    "print(data_groupby)"
   ]
  },
  {
   "cell_type": "code",
   "execution_count": null,
   "id": "012a96bc",
   "metadata": {},
   "outputs": [],
   "source": [
    "# The cars most sold are from 2019 to 2011"
   ]
  },
  {
   "cell_type": "code",
   "execution_count": 41,
   "id": "83f5ef2b",
   "metadata": {},
   "outputs": [
    {
     "name": "stdout",
     "output_type": "stream",
     "text": [
      "year  name      \n",
      "1994  Ambassador     1\n",
      "      Maruti         1\n",
      "1995  Maruti         1\n",
      "1996  Maruti         2\n",
      "1997  Maruti         9\n",
      "                    ..\n",
      "2020  Mahindra       5\n",
      "      Maruti        33\n",
      "      Tata           9\n",
      "      Toyota         5\n",
      "      Volkswagen     3\n",
      "Name: Index_ID, Length: 290, dtype: int64\n"
     ]
    }
   ],
   "source": [
    "data_groupby = data.groupby(['year','name'])['Index_ID'].count()\n",
    "print(data_groupby)"
   ]
  },
  {
   "cell_type": "code",
   "execution_count": 55,
   "id": "a4522261",
   "metadata": {},
   "outputs": [
    {
     "name": "stdout",
     "output_type": "stream",
     "text": [
      "       State or Province  sold\n",
      "26              New York   293\n",
      "3             California   274\n",
      "10              Illinois   148\n",
      "34                 Texas   138\n",
      "38            Washington   120\n",
      "7                Florida   118\n",
      "31          Pennsylvania    80\n",
      "17         Massachusetts    76\n",
      "27        North Carolina    75\n",
      "18              Michigan    71\n",
      "6   District of Columbia    68\n",
      "8                Georgia    62\n",
      "11               Indiana    45\n",
      "28                  Ohio    40\n",
      "30                Oregon    30\n",
      "12                  Iowa    30\n",
      "33             Tennessee    29\n",
      "16              Maryland    28\n",
      "29              Oklahoma    27\n",
      "2               Arkansas    27\n",
      "13                Kansas    26\n",
      "40             Wisconsin    25\n",
      "19             Minnesota    25\n",
      "35                  Utah    22\n",
      "24            New Jersey    15\n",
      "9                  Idaho    15\n",
      "15                 Maine    14\n",
      "1                Arizona    12\n",
      "14              Kentucky    12\n",
      "0                Alabama    11\n",
      "4               Colorado     8\n",
      "21               Montana     5\n",
      "37              Virginia     5\n",
      "23         New Hampshire     4\n",
      "32        South Carolina     4\n",
      "5            Connecticut     4\n",
      "36               Vermont     4\n",
      "39         West Virginia     4\n",
      "25            New Mexico     3\n",
      "20              Missouri     3\n",
      "22              Nebraska     2\n"
     ]
    }
   ],
   "source": [
    "data_groupby = df2[[\"State or Province\", \"sold\"]].groupby(['State or Province'], as_index=False).count().sort_values(by='sold', ascending=False)\n",
    "print(data_groupby)"
   ]
  },
  {
   "cell_type": "code",
   "execution_count": 56,
   "id": "1d5c5e1e",
   "metadata": {},
   "outputs": [
    {
     "data": {
      "image/png": "[encoded data removed]",
      "text/plain": [
       "<Figure size 1152x648 with 1 Axes>"
      ]
     },
     "metadata": {
      "needs_background": "light"
     },
     "output_type": "display_data"
    }
   ],
   "source": [
    "fig, ax = plt.subplots(figsize=(16,9))\n",
    "sns.countplot(x = 'State or Province', data = df2)\n",
    "plt.setp(ax.get_xticklabels(), rotation=30, horizontalalignment='right')\n",
    "plt.show()"
   ]
  },
  {
   "cell_type": "code",
   "execution_count": null,
   "id": "f676db47",
   "metadata": {},
   "outputs": [],
   "source": [
    "# The States that sell most cars are New York and California. "
   ]
  },
  {
   "cell_type": "markdown",
   "id": "036ed056",
   "metadata": {},
   "source": [
    "### Selling Price"
   ]
  },
  {
   "cell_type": "code",
   "execution_count": 43,
   "id": "e24971b4",
   "metadata": {},
   "outputs": [
    {
     "data": {
      "text/html": [
       "<div>\n",
       "<style scoped>\n",
       "    .dataframe tbody tr th:only-of-type {\n",
       "        vertical-align: middle;\n",
       "    }\n",
       "\n",
       "    .dataframe tbody tr th {\n",
       "        vertical-align: top;\n",
       "    }\n",
       "\n",
       "    .dataframe thead th {\n",
       "        text-align: right;\n",
       "    }\n",
       "</style>\n",
       "<table border=\"1\" class=\"dataframe\">\n",
       "  <thead>\n",
       "    <tr style=\"text-align: right;\">\n",
       "      <th></th>\n",
       "      <th>Index_ID</th>\n",
       "      <th>Sales_ID</th>\n",
       "      <th>name</th>\n",
       "      <th>year</th>\n",
       "      <th>selling_price</th>\n",
       "      <th>km_driven</th>\n",
       "      <th>Region</th>\n",
       "      <th>State or Province</th>\n",
       "      <th>City</th>\n",
       "      <th>fuel</th>\n",
       "      <th>seller_type</th>\n",
       "      <th>transmission</th>\n",
       "      <th>owner</th>\n",
       "      <th>mileage</th>\n",
       "      <th>engine</th>\n",
       "      <th>max_power</th>\n",
       "      <th>torque</th>\n",
       "      <th>seats</th>\n",
       "      <th>sold</th>\n",
       "    </tr>\n",
       "  </thead>\n",
       "  <tbody>\n",
       "    <tr>\n",
       "      <th>0</th>\n",
       "      <td>0</td>\n",
       "      <td>1</td>\n",
       "      <td>Maruti</td>\n",
       "      <td>2014</td>\n",
       "      <td>450000</td>\n",
       "      <td>145500</td>\n",
       "      <td>East</td>\n",
       "      <td>District of Columbia</td>\n",
       "      <td>Washington</td>\n",
       "      <td>Diesel</td>\n",
       "      <td>Individual</td>\n",
       "      <td>Manual</td>\n",
       "      <td>First_Owner</td>\n",
       "      <td>23.40</td>\n",
       "      <td>1248</td>\n",
       "      <td>74.00</td>\n",
       "      <td>190Nm@ 2000rpm</td>\n",
       "      <td>5</td>\n",
       "      <td>1</td>\n",
       "    </tr>\n",
       "    <tr>\n",
       "      <th>1</th>\n",
       "      <td>1</td>\n",
       "      <td>2</td>\n",
       "      <td>Skoda</td>\n",
       "      <td>2014</td>\n",
       "      <td>370000</td>\n",
       "      <td>120000</td>\n",
       "      <td>East</td>\n",
       "      <td>New York</td>\n",
       "      <td>New York City</td>\n",
       "      <td>Diesel</td>\n",
       "      <td>Individual</td>\n",
       "      <td>Manual</td>\n",
       "      <td>Second_Owner</td>\n",
       "      <td>21.14</td>\n",
       "      <td>1498</td>\n",
       "      <td>103.52</td>\n",
       "      <td>250Nm@ 1500-2500rpm</td>\n",
       "      <td>5</td>\n",
       "      <td>1</td>\n",
       "    </tr>\n",
       "    <tr>\n",
       "      <th>2</th>\n",
       "      <td>2</td>\n",
       "      <td>3</td>\n",
       "      <td>Honda</td>\n",
       "      <td>2006</td>\n",
       "      <td>158000</td>\n",
       "      <td>140000</td>\n",
       "      <td>Central</td>\n",
       "      <td>Illinois</td>\n",
       "      <td>Chicago</td>\n",
       "      <td>Petrol</td>\n",
       "      <td>Individual</td>\n",
       "      <td>Manual</td>\n",
       "      <td>Third_Owner</td>\n",
       "      <td>17.70</td>\n",
       "      <td>1497</td>\n",
       "      <td>78.00</td>\n",
       "      <td>12.7@ 2,700(kgm@ rpm)</td>\n",
       "      <td>5</td>\n",
       "      <td>1</td>\n",
       "    </tr>\n",
       "    <tr>\n",
       "      <th>3</th>\n",
       "      <td>3</td>\n",
       "      <td>4</td>\n",
       "      <td>Hyundai</td>\n",
       "      <td>2010</td>\n",
       "      <td>225000</td>\n",
       "      <td>127000</td>\n",
       "      <td>Central</td>\n",
       "      <td>Illinois</td>\n",
       "      <td>Chicago</td>\n",
       "      <td>Diesel</td>\n",
       "      <td>Individual</td>\n",
       "      <td>Manual</td>\n",
       "      <td>First_Owner</td>\n",
       "      <td>23.00</td>\n",
       "      <td>1396</td>\n",
       "      <td>90.00</td>\n",
       "      <td>22.4 kgm at 1750-2750rpm</td>\n",
       "      <td>5</td>\n",
       "      <td>1</td>\n",
       "    </tr>\n",
       "    <tr>\n",
       "      <th>4</th>\n",
       "      <td>4</td>\n",
       "      <td>5</td>\n",
       "      <td>Maruti</td>\n",
       "      <td>2007</td>\n",
       "      <td>130000</td>\n",
       "      <td>120000</td>\n",
       "      <td>East</td>\n",
       "      <td>New York</td>\n",
       "      <td>New York City</td>\n",
       "      <td>Petrol</td>\n",
       "      <td>Individual</td>\n",
       "      <td>Manual</td>\n",
       "      <td>First_Owner</td>\n",
       "      <td>16.10</td>\n",
       "      <td>1298</td>\n",
       "      <td>88.20</td>\n",
       "      <td>11.5@ 4,500(kgm@ rpm)</td>\n",
       "      <td>5</td>\n",
       "      <td>1</td>\n",
       "    </tr>\n",
       "    <tr>\n",
       "      <th>...</th>\n",
       "      <td>...</td>\n",
       "      <td>...</td>\n",
       "      <td>...</td>\n",
       "      <td>...</td>\n",
       "      <td>...</td>\n",
       "      <td>...</td>\n",
       "      <td>...</td>\n",
       "      <td>...</td>\n",
       "      <td>...</td>\n",
       "      <td>...</td>\n",
       "      <td>...</td>\n",
       "      <td>...</td>\n",
       "      <td>...</td>\n",
       "      <td>...</td>\n",
       "      <td>...</td>\n",
       "      <td>...</td>\n",
       "      <td>...</td>\n",
       "      <td>...</td>\n",
       "      <td>...</td>\n",
       "    </tr>\n",
       "    <tr>\n",
       "      <th>7901</th>\n",
       "      <td>7901</td>\n",
       "      <td>8124</td>\n",
       "      <td>Hyundai</td>\n",
       "      <td>2013</td>\n",
       "      <td>320000</td>\n",
       "      <td>110000</td>\n",
       "      <td>Central</td>\n",
       "      <td>Texas</td>\n",
       "      <td>Plano</td>\n",
       "      <td>Petrol</td>\n",
       "      <td>Individual</td>\n",
       "      <td>Manual</td>\n",
       "      <td>First_Owner</td>\n",
       "      <td>18.50</td>\n",
       "      <td>1197</td>\n",
       "      <td>82.85</td>\n",
       "      <td>113.7Nm@ 4000rpm</td>\n",
       "      <td>5</td>\n",
       "      <td>0</td>\n",
       "    </tr>\n",
       "    <tr>\n",
       "      <th>7902</th>\n",
       "      <td>7902</td>\n",
       "      <td>8125</td>\n",
       "      <td>Hyundai</td>\n",
       "      <td>2007</td>\n",
       "      <td>135000</td>\n",
       "      <td>119000</td>\n",
       "      <td>Central</td>\n",
       "      <td>Texas</td>\n",
       "      <td>Port Arthur</td>\n",
       "      <td>Diesel</td>\n",
       "      <td>Individual</td>\n",
       "      <td>Manual</td>\n",
       "      <td>Fourth_Above_Owner</td>\n",
       "      <td>16.80</td>\n",
       "      <td>1493</td>\n",
       "      <td>110.00</td>\n",
       "      <td>24@ 1,900-2,750(kgm@ rpm)</td>\n",
       "      <td>5</td>\n",
       "      <td>0</td>\n",
       "    </tr>\n",
       "    <tr>\n",
       "      <th>7903</th>\n",
       "      <td>7903</td>\n",
       "      <td>8126</td>\n",
       "      <td>Maruti</td>\n",
       "      <td>2009</td>\n",
       "      <td>382000</td>\n",
       "      <td>120000</td>\n",
       "      <td>Central</td>\n",
       "      <td>Texas</td>\n",
       "      <td>Port Arthur</td>\n",
       "      <td>Diesel</td>\n",
       "      <td>Individual</td>\n",
       "      <td>Manual</td>\n",
       "      <td>First_Owner</td>\n",
       "      <td>19.30</td>\n",
       "      <td>1248</td>\n",
       "      <td>73.90</td>\n",
       "      <td>190Nm@ 2000rpm</td>\n",
       "      <td>5</td>\n",
       "      <td>0</td>\n",
       "    </tr>\n",
       "    <tr>\n",
       "      <th>7904</th>\n",
       "      <td>7904</td>\n",
       "      <td>8127</td>\n",
       "      <td>Tata</td>\n",
       "      <td>2013</td>\n",
       "      <td>290000</td>\n",
       "      <td>25000</td>\n",
       "      <td>East</td>\n",
       "      <td>Massachusetts</td>\n",
       "      <td>Lunenburg</td>\n",
       "      <td>Diesel</td>\n",
       "      <td>Individual</td>\n",
       "      <td>Manual</td>\n",
       "      <td>First_Owner</td>\n",
       "      <td>23.57</td>\n",
       "      <td>1396</td>\n",
       "      <td>70.00</td>\n",
       "      <td>140Nm@ 1800-3000rpm</td>\n",
       "      <td>5</td>\n",
       "      <td>0</td>\n",
       "    </tr>\n",
       "    <tr>\n",
       "      <th>7905</th>\n",
       "      <td>7905</td>\n",
       "      <td>8128</td>\n",
       "      <td>Tata</td>\n",
       "      <td>2013</td>\n",
       "      <td>290000</td>\n",
       "      <td>25000</td>\n",
       "      <td>East</td>\n",
       "      <td>Maine</td>\n",
       "      <td>Augusta</td>\n",
       "      <td>Diesel</td>\n",
       "      <td>Individual</td>\n",
       "      <td>Manual</td>\n",
       "      <td>First_Owner</td>\n",
       "      <td>23.57</td>\n",
       "      <td>1396</td>\n",
       "      <td>70.00</td>\n",
       "      <td>140Nm@ 1800-3000rpm</td>\n",
       "      <td>5</td>\n",
       "      <td>0</td>\n",
       "    </tr>\n",
       "  </tbody>\n",
       "</table>\n",
       "<p>7906 rows × 19 columns</p>\n",
       "</div>"
      ],
      "text/plain": [
       "      Index_ID  Sales_ID     name  year  selling_price  km_driven   Region  \\\n",
       "0            0         1   Maruti  2014         450000     145500     East   \n",
       "1            1         2    Skoda  2014         370000     120000     East   \n",
       "2            2         3    Honda  2006         158000     140000  Central   \n",
       "3            3         4  Hyundai  2010         225000     127000  Central   \n",
       "4            4         5   Maruti  2007         130000     120000     East   \n",
       "...        ...       ...      ...   ...            ...        ...      ...   \n",
       "7901      7901      8124  Hyundai  2013         320000     110000  Central   \n",
       "7902      7902      8125  Hyundai  2007         135000     119000  Central   \n",
       "7903      7903      8126   Maruti  2009         382000     120000  Central   \n",
       "7904      7904      8127     Tata  2013         290000      25000     East   \n",
       "7905      7905      8128     Tata  2013         290000      25000     East   \n",
       "\n",
       "         State or Province           City    fuel seller_type transmission  \\\n",
       "0     District of Columbia     Washington  Diesel  Individual       Manual   \n",
       "1                 New York  New York City  Diesel  Individual       Manual   \n",
       "2                 Illinois        Chicago  Petrol  Individual       Manual   \n",
       "3                 Illinois        Chicago  Diesel  Individual       Manual   \n",
       "4                 New York  New York City  Petrol  Individual       Manual   \n",
       "...                    ...            ...     ...         ...          ...   \n",
       "7901                 Texas          Plano  Petrol  Individual       Manual   \n",
       "7902                 Texas    Port Arthur  Diesel  Individual       Manual   \n",
       "7903                 Texas    Port Arthur  Diesel  Individual       Manual   \n",
       "7904         Massachusetts      Lunenburg  Diesel  Individual       Manual   \n",
       "7905                 Maine        Augusta  Diesel  Individual       Manual   \n",
       "\n",
       "                   owner  mileage  engine  max_power  \\\n",
       "0            First_Owner    23.40    1248      74.00   \n",
       "1           Second_Owner    21.14    1498     103.52   \n",
       "2            Third_Owner    17.70    1497      78.00   \n",
       "3            First_Owner    23.00    1396      90.00   \n",
       "4            First_Owner    16.10    1298      88.20   \n",
       "...                  ...      ...     ...        ...   \n",
       "7901         First_Owner    18.50    1197      82.85   \n",
       "7902  Fourth_Above_Owner    16.80    1493     110.00   \n",
       "7903         First_Owner    19.30    1248      73.90   \n",
       "7904         First_Owner    23.57    1396      70.00   \n",
       "7905         First_Owner    23.57    1396      70.00   \n",
       "\n",
       "                         torque  seats  sold  \n",
       "0                190Nm@ 2000rpm      5     1  \n",
       "1           250Nm@ 1500-2500rpm      5     1  \n",
       "2         12.7@ 2,700(kgm@ rpm)      5     1  \n",
       "3      22.4 kgm at 1750-2750rpm      5     1  \n",
       "4         11.5@ 4,500(kgm@ rpm)      5     1  \n",
       "...                         ...    ...   ...  \n",
       "7901           113.7Nm@ 4000rpm      5     0  \n",
       "7902  24@ 1,900-2,750(kgm@ rpm)      5     0  \n",
       "7903             190Nm@ 2000rpm      5     0  \n",
       "7904        140Nm@ 1800-3000rpm      5     0  \n",
       "7905        140Nm@ 1800-3000rpm      5     0  \n",
       "\n",
       "[7906 rows x 19 columns]"
      ]
     },
     "execution_count": 43,
     "metadata": {},
     "output_type": "execute_result"
    }
   ],
   "source": [
    "data"
   ]
  },
  {
   "cell_type": "code",
   "execution_count": 45,
   "id": "8be51e13",
   "metadata": {},
   "outputs": [
    {
     "data": {
      "text/plain": [
       "count    7.906000e+03\n",
       "mean     6.498137e+05\n",
       "std      8.135827e+05\n",
       "min      2.999900e+04\n",
       "25%      2.700000e+05\n",
       "50%      4.500000e+05\n",
       "75%      6.900000e+05\n",
       "max      1.000000e+07\n",
       "Name: selling_price, dtype: float64"
      ]
     },
     "execution_count": 45,
     "metadata": {},
     "output_type": "execute_result"
    }
   ],
   "source": [
    "data.selling_price.describe()"
   ]
  },
  {
   "cell_type": "code",
   "execution_count": 70,
   "id": "c837ed68",
   "metadata": {},
   "outputs": [
    {
     "name": "stdout",
     "output_type": "stream",
     "text": [
      "     selling_price     State or Province\n",
      "367       10000000              New York\n",
      "366        6000000                  Iowa\n",
      "365        5850000            California\n",
      "364        5800000              New York\n",
      "363        5500000                  Ohio\n",
      "..             ...                   ...\n",
      "4            50000              Illinois\n",
      "3            45000          Pennsylvania\n",
      "2            40000  District of Columbia\n",
      "1            35000                Oregon\n",
      "0            31504               Florida\n",
      "\n",
      "[368 rows x 2 columns]\n"
     ]
    }
   ],
   "source": [
    "data_groupby = df2[[\"selling_price\",\"State or Province\"]].groupby(['selling_price'], as_index=False).max().sort_values(by='selling_price', ascending=False)\n",
    "print(data_groupby)"
   ]
  },
  {
   "cell_type": "code",
   "execution_count": 71,
   "id": "6f584dd6",
   "metadata": {},
   "outputs": [],
   "source": [
    "# Most expensive car was sold in New York, Iowe, and California"
   ]
  },
  {
   "cell_type": "code",
   "execution_count": 72,
   "id": "87cf6da7",
   "metadata": {},
   "outputs": [
    {
     "data": {
      "text/html": [
       "<div>\n",
       "<style scoped>\n",
       "    .dataframe tbody tr th:only-of-type {\n",
       "        vertical-align: middle;\n",
       "    }\n",
       "\n",
       "    .dataframe tbody tr th {\n",
       "        vertical-align: top;\n",
       "    }\n",
       "\n",
       "    .dataframe thead th {\n",
       "        text-align: right;\n",
       "    }\n",
       "</style>\n",
       "<table border=\"1\" class=\"dataframe\">\n",
       "  <thead>\n",
       "    <tr style=\"text-align: right;\">\n",
       "      <th></th>\n",
       "      <th>Index_ID</th>\n",
       "      <th>Sales_ID</th>\n",
       "      <th>name</th>\n",
       "      <th>year</th>\n",
       "      <th>selling_price</th>\n",
       "      <th>km_driven</th>\n",
       "      <th>Region</th>\n",
       "      <th>State or Province</th>\n",
       "      <th>City</th>\n",
       "      <th>fuel</th>\n",
       "      <th>seller_type</th>\n",
       "      <th>transmission</th>\n",
       "      <th>owner</th>\n",
       "      <th>mileage</th>\n",
       "      <th>engine</th>\n",
       "      <th>max_power</th>\n",
       "      <th>torque</th>\n",
       "      <th>seats</th>\n",
       "      <th>sold</th>\n",
       "    </tr>\n",
       "  </thead>\n",
       "  <tbody>\n",
       "    <tr>\n",
       "      <th>0</th>\n",
       "      <td>0</td>\n",
       "      <td>1</td>\n",
       "      <td>Maruti</td>\n",
       "      <td>2014</td>\n",
       "      <td>450000</td>\n",
       "      <td>145500</td>\n",
       "      <td>East</td>\n",
       "      <td>District of Columbia</td>\n",
       "      <td>Washington</td>\n",
       "      <td>Diesel</td>\n",
       "      <td>Individual</td>\n",
       "      <td>Manual</td>\n",
       "      <td>First_Owner</td>\n",
       "      <td>23.40</td>\n",
       "      <td>1248</td>\n",
       "      <td>74.00</td>\n",
       "      <td>190Nm@ 2000rpm</td>\n",
       "      <td>5</td>\n",
       "      <td>1</td>\n",
       "    </tr>\n",
       "    <tr>\n",
       "      <th>1</th>\n",
       "      <td>1</td>\n",
       "      <td>2</td>\n",
       "      <td>Skoda</td>\n",
       "      <td>2014</td>\n",
       "      <td>370000</td>\n",
       "      <td>120000</td>\n",
       "      <td>East</td>\n",
       "      <td>New York</td>\n",
       "      <td>New York City</td>\n",
       "      <td>Diesel</td>\n",
       "      <td>Individual</td>\n",
       "      <td>Manual</td>\n",
       "      <td>Second_Owner</td>\n",
       "      <td>21.14</td>\n",
       "      <td>1498</td>\n",
       "      <td>103.52</td>\n",
       "      <td>250Nm@ 1500-2500rpm</td>\n",
       "      <td>5</td>\n",
       "      <td>1</td>\n",
       "    </tr>\n",
       "    <tr>\n",
       "      <th>2</th>\n",
       "      <td>2</td>\n",
       "      <td>3</td>\n",
       "      <td>Honda</td>\n",
       "      <td>2006</td>\n",
       "      <td>158000</td>\n",
       "      <td>140000</td>\n",
       "      <td>Central</td>\n",
       "      <td>Illinois</td>\n",
       "      <td>Chicago</td>\n",
       "      <td>Petrol</td>\n",
       "      <td>Individual</td>\n",
       "      <td>Manual</td>\n",
       "      <td>Third_Owner</td>\n",
       "      <td>17.70</td>\n",
       "      <td>1497</td>\n",
       "      <td>78.00</td>\n",
       "      <td>12.7@ 2,700(kgm@ rpm)</td>\n",
       "      <td>5</td>\n",
       "      <td>1</td>\n",
       "    </tr>\n",
       "    <tr>\n",
       "      <th>3</th>\n",
       "      <td>3</td>\n",
       "      <td>4</td>\n",
       "      <td>Hyundai</td>\n",
       "      <td>2010</td>\n",
       "      <td>225000</td>\n",
       "      <td>127000</td>\n",
       "      <td>Central</td>\n",
       "      <td>Illinois</td>\n",
       "      <td>Chicago</td>\n",
       "      <td>Diesel</td>\n",
       "      <td>Individual</td>\n",
       "      <td>Manual</td>\n",
       "      <td>First_Owner</td>\n",
       "      <td>23.00</td>\n",
       "      <td>1396</td>\n",
       "      <td>90.00</td>\n",
       "      <td>22.4 kgm at 1750-2750rpm</td>\n",
       "      <td>5</td>\n",
       "      <td>1</td>\n",
       "    </tr>\n",
       "    <tr>\n",
       "      <th>4</th>\n",
       "      <td>4</td>\n",
       "      <td>5</td>\n",
       "      <td>Maruti</td>\n",
       "      <td>2007</td>\n",
       "      <td>130000</td>\n",
       "      <td>120000</td>\n",
       "      <td>East</td>\n",
       "      <td>New York</td>\n",
       "      <td>New York City</td>\n",
       "      <td>Petrol</td>\n",
       "      <td>Individual</td>\n",
       "      <td>Manual</td>\n",
       "      <td>First_Owner</td>\n",
       "      <td>16.10</td>\n",
       "      <td>1298</td>\n",
       "      <td>88.20</td>\n",
       "      <td>11.5@ 4,500(kgm@ rpm)</td>\n",
       "      <td>5</td>\n",
       "      <td>1</td>\n",
       "    </tr>\n",
       "    <tr>\n",
       "      <th>...</th>\n",
       "      <td>...</td>\n",
       "      <td>...</td>\n",
       "      <td>...</td>\n",
       "      <td>...</td>\n",
       "      <td>...</td>\n",
       "      <td>...</td>\n",
       "      <td>...</td>\n",
       "      <td>...</td>\n",
       "      <td>...</td>\n",
       "      <td>...</td>\n",
       "      <td>...</td>\n",
       "      <td>...</td>\n",
       "      <td>...</td>\n",
       "      <td>...</td>\n",
       "      <td>...</td>\n",
       "      <td>...</td>\n",
       "      <td>...</td>\n",
       "      <td>...</td>\n",
       "      <td>...</td>\n",
       "    </tr>\n",
       "    <tr>\n",
       "      <th>1997</th>\n",
       "      <td>1997</td>\n",
       "      <td>2059</td>\n",
       "      <td>Maruti</td>\n",
       "      <td>2016</td>\n",
       "      <td>245000</td>\n",
       "      <td>50000</td>\n",
       "      <td>West</td>\n",
       "      <td>Utah</td>\n",
       "      <td>Layton</td>\n",
       "      <td>Petrol</td>\n",
       "      <td>Individual</td>\n",
       "      <td>Manual</td>\n",
       "      <td>First_Owner</td>\n",
       "      <td>22.74</td>\n",
       "      <td>796</td>\n",
       "      <td>47.30</td>\n",
       "      <td>69Nm@ 3500rpm</td>\n",
       "      <td>5</td>\n",
       "      <td>1</td>\n",
       "    </tr>\n",
       "    <tr>\n",
       "      <th>1998</th>\n",
       "      <td>1998</td>\n",
       "      <td>2060</td>\n",
       "      <td>Tata</td>\n",
       "      <td>2013</td>\n",
       "      <td>260000</td>\n",
       "      <td>189000</td>\n",
       "      <td>West</td>\n",
       "      <td>Utah</td>\n",
       "      <td>Kearns</td>\n",
       "      <td>Diesel</td>\n",
       "      <td>Individual</td>\n",
       "      <td>Manual</td>\n",
       "      <td>First_Owner</td>\n",
       "      <td>21.02</td>\n",
       "      <td>1248</td>\n",
       "      <td>88.76</td>\n",
       "      <td>200Nm@ 1750-3000rpm</td>\n",
       "      <td>5</td>\n",
       "      <td>1</td>\n",
       "    </tr>\n",
       "    <tr>\n",
       "      <th>1999</th>\n",
       "      <td>1999</td>\n",
       "      <td>2061</td>\n",
       "      <td>Volkswagen</td>\n",
       "      <td>2014</td>\n",
       "      <td>411000</td>\n",
       "      <td>90000</td>\n",
       "      <td>West</td>\n",
       "      <td>Utah</td>\n",
       "      <td>Layton</td>\n",
       "      <td>Diesel</td>\n",
       "      <td>Individual</td>\n",
       "      <td>Automatic</td>\n",
       "      <td>Second_Owner</td>\n",
       "      <td>21.21</td>\n",
       "      <td>1498</td>\n",
       "      <td>103.20</td>\n",
       "      <td>250Nm@ 1500-2500rpm</td>\n",
       "      <td>5</td>\n",
       "      <td>1</td>\n",
       "    </tr>\n",
       "    <tr>\n",
       "      <th>2000</th>\n",
       "      <td>2000</td>\n",
       "      <td>2062</td>\n",
       "      <td>Hyundai</td>\n",
       "      <td>2014</td>\n",
       "      <td>450000</td>\n",
       "      <td>56000</td>\n",
       "      <td>West</td>\n",
       "      <td>Utah</td>\n",
       "      <td>Layton</td>\n",
       "      <td>Diesel</td>\n",
       "      <td>Individual</td>\n",
       "      <td>Manual</td>\n",
       "      <td>First_Owner</td>\n",
       "      <td>21.90</td>\n",
       "      <td>1396</td>\n",
       "      <td>88.76</td>\n",
       "      <td>219.6Nm@ 1750-2750rpm</td>\n",
       "      <td>5</td>\n",
       "      <td>0</td>\n",
       "    </tr>\n",
       "    <tr>\n",
       "      <th>2001</th>\n",
       "      <td>2001</td>\n",
       "      <td>2063</td>\n",
       "      <td>BMW</td>\n",
       "      <td>2012</td>\n",
       "      <td>1300000</td>\n",
       "      <td>140000</td>\n",
       "      <td>West</td>\n",
       "      <td>Utah</td>\n",
       "      <td>Layton</td>\n",
       "      <td>Diesel</td>\n",
       "      <td>Individual</td>\n",
       "      <td>Automatic</td>\n",
       "      <td>Second_Owner</td>\n",
       "      <td>18.88</td>\n",
       "      <td>1995</td>\n",
       "      <td>184.00</td>\n",
       "      <td>380Nm@ 1750-2750rpm</td>\n",
       "      <td>5</td>\n",
       "      <td>0</td>\n",
       "    </tr>\n",
       "  </tbody>\n",
       "</table>\n",
       "<p>2002 rows × 19 columns</p>\n",
       "</div>"
      ],
      "text/plain": [
       "      Index_ID  Sales_ID        name  year  selling_price  km_driven   Region  \\\n",
       "0            0         1      Maruti  2014         450000     145500     East   \n",
       "1            1         2       Skoda  2014         370000     120000     East   \n",
       "2            2         3       Honda  2006         158000     140000  Central   \n",
       "3            3         4     Hyundai  2010         225000     127000  Central   \n",
       "4            4         5      Maruti  2007         130000     120000     East   \n",
       "...        ...       ...         ...   ...            ...        ...      ...   \n",
       "1997      1997      2059      Maruti  2016         245000      50000     West   \n",
       "1998      1998      2060        Tata  2013         260000     189000     West   \n",
       "1999      1999      2061  Volkswagen  2014         411000      90000     West   \n",
       "2000      2000      2062     Hyundai  2014         450000      56000     West   \n",
       "2001      2001      2063         BMW  2012        1300000     140000     West   \n",
       "\n",
       "         State or Province           City    fuel seller_type transmission  \\\n",
       "0     District of Columbia     Washington  Diesel  Individual       Manual   \n",
       "1                 New York  New York City  Diesel  Individual       Manual   \n",
       "2                 Illinois        Chicago  Petrol  Individual       Manual   \n",
       "3                 Illinois        Chicago  Diesel  Individual       Manual   \n",
       "4                 New York  New York City  Petrol  Individual       Manual   \n",
       "...                    ...            ...     ...         ...          ...   \n",
       "1997                  Utah         Layton  Petrol  Individual       Manual   \n",
       "1998                  Utah         Kearns  Diesel  Individual       Manual   \n",
       "1999                  Utah         Layton  Diesel  Individual    Automatic   \n",
       "2000                  Utah         Layton  Diesel  Individual       Manual   \n",
       "2001                  Utah         Layton  Diesel  Individual    Automatic   \n",
       "\n",
       "             owner  mileage  engine  max_power                    torque  \\\n",
       "0      First_Owner    23.40    1248      74.00            190Nm@ 2000rpm   \n",
       "1     Second_Owner    21.14    1498     103.52       250Nm@ 1500-2500rpm   \n",
       "2      Third_Owner    17.70    1497      78.00     12.7@ 2,700(kgm@ rpm)   \n",
       "3      First_Owner    23.00    1396      90.00  22.4 kgm at 1750-2750rpm   \n",
       "4      First_Owner    16.10    1298      88.20     11.5@ 4,500(kgm@ rpm)   \n",
       "...            ...      ...     ...        ...                       ...   \n",
       "1997   First_Owner    22.74     796      47.30             69Nm@ 3500rpm   \n",
       "1998   First_Owner    21.02    1248      88.76       200Nm@ 1750-3000rpm   \n",
       "1999  Second_Owner    21.21    1498     103.20       250Nm@ 1500-2500rpm   \n",
       "2000   First_Owner    21.90    1396      88.76     219.6Nm@ 1750-2750rpm   \n",
       "2001  Second_Owner    18.88    1995     184.00       380Nm@ 1750-2750rpm   \n",
       "\n",
       "      seats  sold  \n",
       "0         5     1  \n",
       "1         5     1  \n",
       "2         5     1  \n",
       "3         5     1  \n",
       "4         5     1  \n",
       "...     ...   ...  \n",
       "1997      5     1  \n",
       "1998      5     1  \n",
       "1999      5     1  \n",
       "2000      5     0  \n",
       "2001      5     0  \n",
       "\n",
       "[2002 rows x 19 columns]"
      ]
     },
     "execution_count": 72,
     "metadata": {},
     "output_type": "execute_result"
    }
   ],
   "source": [
    "df2"
   ]
  },
  {
   "cell_type": "code",
   "execution_count": 92,
   "id": "1007ea78",
   "metadata": {},
   "outputs": [
    {
     "data": {
      "text/html": [
       "<div>\n",
       "<style scoped>\n",
       "    .dataframe tbody tr th:only-of-type {\n",
       "        vertical-align: middle;\n",
       "    }\n",
       "\n",
       "    .dataframe tbody tr th {\n",
       "        vertical-align: top;\n",
       "    }\n",
       "\n",
       "    .dataframe thead th {\n",
       "        text-align: right;\n",
       "    }\n",
       "</style>\n",
       "<table border=\"1\" class=\"dataframe\">\n",
       "  <thead>\n",
       "    <tr style=\"text-align: right;\">\n",
       "      <th></th>\n",
       "      <th>Index_ID</th>\n",
       "      <th>Sales_ID</th>\n",
       "      <th>year</th>\n",
       "      <th>selling_price</th>\n",
       "      <th>km_driven</th>\n",
       "      <th>mileage</th>\n",
       "      <th>engine</th>\n",
       "      <th>max_power</th>\n",
       "      <th>seats</th>\n",
       "      <th>sold</th>\n",
       "    </tr>\n",
       "  </thead>\n",
       "  <tbody>\n",
       "    <tr>\n",
       "      <th>count</th>\n",
       "      <td>2002.000000</td>\n",
       "      <td>2002.000000</td>\n",
       "      <td>2002.000000</td>\n",
       "      <td>2.002000e+03</td>\n",
       "      <td>2.002000e+03</td>\n",
       "      <td>2002.000000</td>\n",
       "      <td>2002.000000</td>\n",
       "      <td>2002.000000</td>\n",
       "      <td>2002.000000</td>\n",
       "      <td>2002.000000</td>\n",
       "    </tr>\n",
       "    <tr>\n",
       "      <th>mean</th>\n",
       "      <td>1000.500000</td>\n",
       "      <td>1032.436563</td>\n",
       "      <td>2014.001998</td>\n",
       "      <td>6.765700e+05</td>\n",
       "      <td>6.873670e+04</td>\n",
       "      <td>19.220470</td>\n",
       "      <td>1470.414585</td>\n",
       "      <td>92.266494</td>\n",
       "      <td>5.432567</td>\n",
       "      <td>0.999001</td>\n",
       "    </tr>\n",
       "    <tr>\n",
       "      <th>std</th>\n",
       "      <td>578.071939</td>\n",
       "      <td>595.190326</td>\n",
       "      <td>3.792335</td>\n",
       "      <td>8.853700e+05</td>\n",
       "      <td>5.613905e+04</td>\n",
       "      <td>4.017491</td>\n",
       "      <td>520.467006</td>\n",
       "      <td>37.060952</td>\n",
       "      <td>0.966556</td>\n",
       "      <td>0.031599</td>\n",
       "    </tr>\n",
       "    <tr>\n",
       "      <th>min</th>\n",
       "      <td>0.000000</td>\n",
       "      <td>1.000000</td>\n",
       "      <td>1994.000000</td>\n",
       "      <td>3.150400e+04</td>\n",
       "      <td>1.000000e+03</td>\n",
       "      <td>0.000000</td>\n",
       "      <td>624.000000</td>\n",
       "      <td>34.200000</td>\n",
       "      <td>4.000000</td>\n",
       "      <td>0.000000</td>\n",
       "    </tr>\n",
       "    <tr>\n",
       "      <th>25%</th>\n",
       "      <td>500.250000</td>\n",
       "      <td>515.250000</td>\n",
       "      <td>2012.000000</td>\n",
       "      <td>2.700000e+05</td>\n",
       "      <td>3.394600e+04</td>\n",
       "      <td>16.780000</td>\n",
       "      <td>1197.000000</td>\n",
       "      <td>68.000000</td>\n",
       "      <td>5.000000</td>\n",
       "      <td>1.000000</td>\n",
       "    </tr>\n",
       "    <tr>\n",
       "      <th>50%</th>\n",
       "      <td>1000.500000</td>\n",
       "      <td>1031.500000</td>\n",
       "      <td>2015.000000</td>\n",
       "      <td>4.500000e+05</td>\n",
       "      <td>6.000000e+04</td>\n",
       "      <td>19.090000</td>\n",
       "      <td>1248.000000</td>\n",
       "      <td>82.625000</td>\n",
       "      <td>5.000000</td>\n",
       "      <td>1.000000</td>\n",
       "    </tr>\n",
       "    <tr>\n",
       "      <th>75%</th>\n",
       "      <td>1500.750000</td>\n",
       "      <td>1549.750000</td>\n",
       "      <td>2017.000000</td>\n",
       "      <td>6.800000e+05</td>\n",
       "      <td>9.400000e+04</td>\n",
       "      <td>22.000000</td>\n",
       "      <td>1585.000000</td>\n",
       "      <td>103.200000</td>\n",
       "      <td>5.000000</td>\n",
       "      <td>1.000000</td>\n",
       "    </tr>\n",
       "    <tr>\n",
       "      <th>max</th>\n",
       "      <td>2001.000000</td>\n",
       "      <td>2063.000000</td>\n",
       "      <td>2020.000000</td>\n",
       "      <td>1.000000e+07</td>\n",
       "      <td>1.500000e+06</td>\n",
       "      <td>42.000000</td>\n",
       "      <td>3604.000000</td>\n",
       "      <td>400.000000</td>\n",
       "      <td>10.000000</td>\n",
       "      <td>1.000000</td>\n",
       "    </tr>\n",
       "  </tbody>\n",
       "</table>\n",
       "</div>"
      ],
      "text/plain": [
       "          Index_ID     Sales_ID         year  selling_price     km_driven  \\\n",
       "count  2002.000000  2002.000000  2002.000000   2.002000e+03  2.002000e+03   \n",
       "mean   1000.500000  1032.436563  2014.001998   6.765700e+05  6.873670e+04   \n",
       "std     578.071939   595.190326     3.792335   8.853700e+05  5.613905e+04   \n",
       "min       0.000000     1.000000  1994.000000   3.150400e+04  1.000000e+03   \n",
       "25%     500.250000   515.250000  2012.000000   2.700000e+05  3.394600e+04   \n",
       "50%    1000.500000  1031.500000  2015.000000   4.500000e+05  6.000000e+04   \n",
       "75%    1500.750000  1549.750000  2017.000000   6.800000e+05  9.400000e+04   \n",
       "max    2001.000000  2063.000000  2020.000000   1.000000e+07  1.500000e+06   \n",
       "\n",
       "           mileage       engine    max_power        seats         sold  \n",
       "count  2002.000000  2002.000000  2002.000000  2002.000000  2002.000000  \n",
       "mean     19.220470  1470.414585    92.266494     5.432567     0.999001  \n",
       "std       4.017491   520.467006    37.060952     0.966556     0.031599  \n",
       "min       0.000000   624.000000    34.200000     4.000000     0.000000  \n",
       "25%      16.780000  1197.000000    68.000000     5.000000     1.000000  \n",
       "50%      19.090000  1248.000000    82.625000     5.000000     1.000000  \n",
       "75%      22.000000  1585.000000   103.200000     5.000000     1.000000  \n",
       "max      42.000000  3604.000000   400.000000    10.000000     1.000000  "
      ]
     },
     "execution_count": 92,
     "metadata": {},
     "output_type": "execute_result"
    }
   ],
   "source": [
    "df2.describe()"
   ]
  },
  {
   "cell_type": "code",
   "execution_count": 102,
   "id": "4ceb5a4d",
   "metadata": {},
   "outputs": [
    {
     "data": {
      "text/plain": [
       "300000    60\n",
       "450000    56\n",
       "600000    52\n",
       "550000    50\n",
       "350000    49\n",
       "          ..\n",
       "441000     1\n",
       "67500      1\n",
       "298000     1\n",
       "681000     1\n",
       "411000     1\n",
       "Name: selling_price, Length: 368, dtype: int64"
      ]
     },
     "execution_count": 102,
     "metadata": {},
     "output_type": "execute_result"
    }
   ],
   "source": [
    "value_of_cars_sold = df2.selling_price.value_counts()\n",
    "value_of_cars_sold"
   ]
  },
  {
   "cell_type": "code",
   "execution_count": 94,
   "id": "bd50a637",
   "metadata": {},
   "outputs": [],
   "source": [
    "#let's divide the cars by two groups 'expensive' = > average and 'cheap' = < average \n",
    "exp_cars = value_of_cars_sold[value_of_cars_sold >= 676570] \n",
    "cheap_cars = value_of_cars_sold[value_of_cars_sold < 676570] "
   ]
  },
  {
   "cell_type": "code",
   "execution_count": 103,
   "id": "1ededcf1",
   "metadata": {},
   "outputs": [
    {
     "data": {
      "text/plain": [
       "<AxesSubplot:>"
      ]
     },
     "execution_count": 103,
     "metadata": {},
     "output_type": "execute_result"
    },
    {
     "data": {
      "image/png": "[encoded data removed]",
      "text/plain": [
       "<Figure size 432x288 with 1 Axes>"
      ]
     },
     "metadata": {
      "needs_background": "light"
     },
     "output_type": "display_data"
    }
   ],
   "source": [
    "value_of_cars_sold.plot(kind='barh')"
   ]
  },
  {
   "cell_type": "code",
   "execution_count": 81,
   "id": "efab7aae",
   "metadata": {},
   "outputs": [
    {
     "data": {
      "text/plain": [
       "0.0"
      ]
     },
     "execution_count": 81,
     "metadata": {},
     "output_type": "execute_result"
    }
   ],
   "source": [
    "len(exp_cars) / len(value_of_cars_sold) * 100"
   ]
  },
  {
   "cell_type": "code",
   "execution_count": null,
   "id": "a1c9b342",
   "metadata": {},
   "outputs": [],
   "source": []
  },
  {
   "cell_type": "code",
   "execution_count": null,
   "id": "72e6ed53",
   "metadata": {},
   "outputs": [],
   "source": []
  },
  {
   "cell_type": "code",
   "execution_count": null,
   "id": "65ba4c30",
   "metadata": {},
   "outputs": [],
   "source": []
  }
 ],
 "metadata": {
  "kernelspec": {
   "display_name": "Python 3 (ipykernel)",
   "language": "python",
   "name": "python3"
  },
  "language_info": {
   "codemirror_mode": {
    "name": "ipython",
    "version": 3
   },
   "file_extension": ".py",
   "mimetype": "text/x-python",
   "name": "python",
   "nbconvert_exporter": "python",
   "pygments_lexer": "ipython3",
   "version": "3.9.12"
  }
 },
 "nbformat": 4,
 "nbformat_minor": 5
}
